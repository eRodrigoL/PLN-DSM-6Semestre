{
  "nbformat": 4,
  "nbformat_minor": 0,
  "metadata": {
    "colab": {
      "provenance": []
    },
    "kernelspec": {
      "name": "python3",
      "display_name": "Python 3"
    },
    "language_info": {
      "name": "python"
    }
  },
  "cells": [
    {
      "cell_type": "markdown",
      "source": [
        "# Aula 04 - Extração de Características (Features) em Texto"
      ],
      "metadata": {
        "id": "NEvBWbQQTSAA"
      }
    },
    {
      "cell_type": "markdown",
      "source": [
        "1. Parte 1 - Corporas\n",
        "2. Parte 2 - Extração de Características em Texto"
      ],
      "metadata": {
        "id": "uuLheFrllL5Z"
      }
    },
    {
      "cell_type": "markdown",
      "source": [
        "## **Parte 1** - Trabalhando com Corporas"
      ],
      "metadata": {
        "id": "6G0_XPEKlcpn"
      }
    },
    {
      "cell_type": "markdown",
      "source": [
        "Criar uma implementação simples de BoW usando scikit-learn."
      ],
      "metadata": {
        "id": "da2g1LQOnG9m"
      }
    },
    {
      "cell_type": "code",
      "execution_count": 1,
      "metadata": {
        "id": "qpioQNU3Rn0p",
        "colab": {
          "base_uri": "https://localhost:8080/"
        },
        "outputId": "13af7dff-ec0e-4219-e943-48b1459aed74"
      },
      "outputs": [
        {
          "output_type": "stream",
          "name": "stdout",
          "text": [
            "Vocabulario: {'gato': 3, 'cachorro': 1, 'brinca': 0, 'com': 2, 'rato': 4}\n",
            "Matriz BoW: \n",
            "[[0 1 0 1 0]\n",
            " [1 1 1 1 0]\n",
            " [0 0 0 1 1]\n",
            " [0 1 0 1 1]\n",
            " [0 0 0 1 0]\n",
            " [0 1 0 0 1]]\n"
          ]
        }
      ],
      "source": [
        "# Importando a ferramenta que irá criar a representação numérica\n",
        "from sklearn.feature_extraction.text import CountVectorizer\n",
        "\n",
        "# Criando um corpus de documentos que será usado para criação do vocabulário\n",
        "documentos = [\n",
        "    \"gato e cachorro\",\n",
        "    \"gato brinca com cachorro\",\n",
        "    \"gato e rato\",\n",
        "    \"Cachorro, gato e rato\",\n",
        "    \"Gato\",\n",
        "    \"Cachorro e rato\"\n",
        "]\n",
        "# Criando um objeto para ser utilizado: transformar os documentos em vetores\n",
        "vectorizer = CountVectorizer()\n",
        "\n",
        "# Criando a matriz de contagem\n",
        "X = vectorizer.fit_transform(documentos)\n",
        "  # fit >>> cria um vocabulário das palavras\n",
        "  # transforme >>> conta a frequencia de cada palavra no corpus\n",
        "\n",
        "# Imprimindo a Matriz e o Vocabulário gerado\n",
        "print(f\"Vocabulario: {vectorizer.vocabulary_}\")\n",
        "  # realiza o mapeamento do vocabulário para um índice da matriz\n",
        "\n",
        "print(f\"Matriz BoW: \\n{X.toarray()}\")\n",
        "  # mostra a frequencia de cada palavra dentro da matriz"
      ]
    },
    {
      "cell_type": "markdown",
      "source": [
        "## Exemplo 2 - Implementando BOW junto com TF-IDF"
      ],
      "metadata": {
        "id": "tu98hQcn3C3w"
      }
    },
    {
      "cell_type": "code",
      "source": [
        "# Importando as Bibliotecas\n",
        "from sklearn.feature_extraction.text import CountVectorizer\n",
        "  # Classe que transforma os documentos em vetores e realiza a contagem de frequencia\n",
        "from sklearn.feature_extraction.text import TfidfVectorizer\n",
        "  # Classe que transforma os documentos em vetores e uma contagem de frequencia ponderada\n",
        "\n",
        "# Definindo o corpus\n",
        "documentos = [\n",
        "    \"O cachorro gosta de passear no parque\",\n",
        "    \"O gato dorme no sofá o dia todo\",\n",
        "    \"Cachorros e gatos podem ser bons amigos\"\n",
        "]\n",
        "\n",
        "# Criando o modelo BoW\n",
        "vectorizer_bow = CountVectorizer()\n",
        "  # Instanciamento da classe em objeto para ser usado\n",
        "X_bow = vectorizer_bow.fit_transform(documentos)\n",
        "  # fit >>> realizar a transformação do vocabulário\n",
        "  # transform >> transforma cada vetor em um documento com a contagem de frequência\n",
        "\n",
        "# Imprimindo o Vocabulário e a Matriz\n",
        "print(f\"Vocabulario BoW: {vectorizer_bow.vocabulary_}\")\n",
        "print(f\"Matriz BoW: \\n{X_bow.toarray()}\")\n",
        "\n",
        "# Criando o modelo TF-IDF\n",
        "vectorizer_tfidf = TfidfVectorizer()\n",
        "  # realiza a instanciação da classe em objeto\n",
        "X_tfidf = vectorizer_tfidf.fit_transform(documentos)\n",
        "  # fit >>> realizar a transformação do vocabulário\n",
        "  # transform >> transforma cada vetor em um documento com a contagem de frequência ponderada\n",
        "\n",
        "# Imprimindo o Vocabulário e a Matriz TF-IDF\n",
        "print(f\"Vocabulario TF-IDF: {vectorizer_tfidf.vocabulary_}\")\n",
        "print(f\"Matriz TF-IDF: \\n{X_tfidf.toarray()}\")"
      ],
      "metadata": {
        "id": "Z3SIyJUP4heG",
        "colab": {
          "base_uri": "https://localhost:8080/"
        },
        "outputId": "9c9bce86-7b97-48da-e766-70694415e081"
      },
      "execution_count": 2,
      "outputs": [
        {
          "output_type": "stream",
          "name": "stdout",
          "text": [
            "Vocabulario BoW: {'cachorro': 2, 'gosta': 9, 'de': 4, 'passear': 12, 'no': 10, 'parque': 11, 'gato': 7, 'dorme': 6, 'sofá': 15, 'dia': 5, 'todo': 16, 'cachorros': 3, 'gatos': 8, 'podem': 13, 'ser': 14, 'bons': 1, 'amigos': 0}\n",
            "Matriz BoW: \n",
            "[[0 0 1 0 1 0 0 0 0 1 1 1 1 0 0 0 0]\n",
            " [0 0 0 0 0 1 1 1 0 0 1 0 0 0 0 1 1]\n",
            " [1 1 0 1 0 0 0 0 1 0 0 0 0 1 1 0 0]]\n",
            "Vocabulario TF-IDF: {'cachorro': 2, 'gosta': 9, 'de': 4, 'passear': 12, 'no': 10, 'parque': 11, 'gato': 7, 'dorme': 6, 'sofá': 15, 'dia': 5, 'todo': 16, 'cachorros': 3, 'gatos': 8, 'podem': 13, 'ser': 14, 'bons': 1, 'amigos': 0}\n",
            "Matriz TF-IDF: \n",
            "[[0.         0.         0.42339448 0.         0.42339448 0.\n",
            "  0.         0.         0.         0.42339448 0.32200242 0.42339448\n",
            "  0.42339448 0.         0.         0.         0.        ]\n",
            " [0.         0.         0.         0.         0.         0.42339448\n",
            "  0.42339448 0.42339448 0.         0.         0.32200242 0.\n",
            "  0.         0.         0.         0.42339448 0.42339448]\n",
            " [0.40824829 0.40824829 0.         0.40824829 0.         0.\n",
            "  0.         0.         0.40824829 0.         0.         0.\n",
            "  0.         0.40824829 0.40824829 0.         0.        ]]\n"
          ]
        }
      ]
    },
    {
      "cell_type": "markdown",
      "source": [
        "## Exemplo 3 - WordEmbedding utilizando Word2Vex"
      ],
      "metadata": {
        "id": "qyOT6ht_RoeT"
      }
    },
    {
      "cell_type": "markdown",
      "source": [
        "Por algum motivo eu tive erro com a biblioteca e consegui resolver com os comandos a seguir comentados"
      ],
      "metadata": {
        "id": "pWNjux2KYhYi"
      }
    },
    {
      "cell_type": "code",
      "source": [
        "# !pip uninstall -y gensim numpy scipy\n",
        "# !pip install numpy==1.23.5 scipy==1.10.1 gensim==4.3.1"
      ],
      "metadata": {
        "colab": {
          "base_uri": "https://localhost:8080/",
          "height": 758
        },
        "id": "W5P-bkMvWgiN",
        "outputId": "87a5dc36-7086-4392-9b96-fd6e0ade1db6"
      },
      "execution_count": 21,
      "outputs": [
        {
          "output_type": "stream",
          "name": "stdout",
          "text": [
            "Collecting numpy==1.23.5\n",
            "  Downloading numpy-1.23.5-cp311-cp311-manylinux_2_17_x86_64.manylinux2014_x86_64.whl.metadata (2.3 kB)\n",
            "Collecting scipy==1.10.1\n",
            "  Downloading scipy-1.10.1-cp311-cp311-manylinux_2_17_x86_64.manylinux2014_x86_64.whl.metadata (58 kB)\n",
            "\u001b[2K     \u001b[90m━━━━━━━━━━━━━━━━━━━━━━━━━━━━━━━━━━━━━━━━\u001b[0m \u001b[32m58.9/58.9 kB\u001b[0m \u001b[31m2.3 MB/s\u001b[0m eta \u001b[36m0:00:00\u001b[0m\n",
            "\u001b[?25hCollecting gensim==4.3.1\n",
            "  Downloading gensim-4.3.1-cp311-cp311-manylinux_2_17_x86_64.manylinux2014_x86_64.whl.metadata (8.4 kB)\n",
            "Requirement already satisfied: smart-open>=1.8.1 in /usr/local/lib/python3.11/dist-packages (from gensim==4.3.1) (7.1.0)\n",
            "Requirement already satisfied: wrapt in /usr/local/lib/python3.11/dist-packages (from smart-open>=1.8.1->gensim==4.3.1) (1.17.2)\n",
            "Downloading numpy-1.23.5-cp311-cp311-manylinux_2_17_x86_64.manylinux2014_x86_64.whl (17.1 MB)\n",
            "\u001b[2K   \u001b[90m━━━━━━━━━━━━━━━━━━━━━━━━━━━━━━━━━━━━━━━━\u001b[0m \u001b[32m17.1/17.1 MB\u001b[0m \u001b[31m74.9 MB/s\u001b[0m eta \u001b[36m0:00:00\u001b[0m\n",
            "\u001b[?25hDownloading scipy-1.10.1-cp311-cp311-manylinux_2_17_x86_64.manylinux2014_x86_64.whl (34.1 MB)\n",
            "\u001b[2K   \u001b[90m━━━━━━━━━━━━━━━━━━━━━━━━━━━━━━━━━━━━━━━━\u001b[0m \u001b[32m34.1/34.1 MB\u001b[0m \u001b[31m18.7 MB/s\u001b[0m eta \u001b[36m0:00:00\u001b[0m\n",
            "\u001b[?25hDownloading gensim-4.3.1-cp311-cp311-manylinux_2_17_x86_64.manylinux2014_x86_64.whl (26.6 MB)\n",
            "\u001b[2K   \u001b[90m━━━━━━━━━━━━━━━━━━━━━━━━━━━━━━━━━━━━━━━━\u001b[0m \u001b[32m26.6/26.6 MB\u001b[0m \u001b[31m42.8 MB/s\u001b[0m eta \u001b[36m0:00:00\u001b[0m\n",
            "\u001b[?25hInstalling collected packages: numpy, scipy, gensim\n",
            "\u001b[31mERROR: pip's dependency resolver does not currently take into account all the packages that are installed. This behaviour is the source of the following dependency conflicts.\n",
            "blosc2 3.2.1 requires numpy>=1.26, but you have numpy 1.23.5 which is incompatible.\n",
            "jaxlib 0.5.1 requires numpy>=1.25, but you have numpy 1.23.5 which is incompatible.\n",
            "jaxlib 0.5.1 requires scipy>=1.11.1, but you have scipy 1.10.1 which is incompatible.\n",
            "chex 0.1.89 requires numpy>=1.24.1, but you have numpy 1.23.5 which is incompatible.\n",
            "pymc 5.21.2 requires numpy>=1.25.0, but you have numpy 1.23.5 which is incompatible.\n",
            "bigframes 1.42.0 requires numpy>=1.24.0, but you have numpy 1.23.5 which is incompatible.\n",
            "jax 0.5.2 requires numpy>=1.25, but you have numpy 1.23.5 which is incompatible.\n",
            "jax 0.5.2 requires scipy>=1.11.1, but you have scipy 1.10.1 which is incompatible.\n",
            "scikit-image 0.25.2 requires numpy>=1.24, but you have numpy 1.23.5 which is incompatible.\n",
            "scikit-image 0.25.2 requires scipy>=1.11.4, but you have scipy 1.10.1 which is incompatible.\n",
            "treescope 0.1.9 requires numpy>=1.25.2, but you have numpy 1.23.5 which is incompatible.\n",
            "cvxpy 1.6.4 requires scipy>=1.11.0, but you have scipy 1.10.1 which is incompatible.\n",
            "thinc 8.3.6 requires numpy<3.0.0,>=2.0.0, but you have numpy 1.23.5 which is incompatible.\n",
            "tensorflow 2.18.0 requires numpy<2.1.0,>=1.26.0, but you have numpy 1.23.5 which is incompatible.\n",
            "imbalanced-learn 0.13.0 requires numpy<3,>=1.24.3, but you have numpy 1.23.5 which is incompatible.\n",
            "albumentations 2.0.5 requires numpy>=1.24.4, but you have numpy 1.23.5 which is incompatible.\n",
            "albucore 0.0.23 requires numpy>=1.24.4, but you have numpy 1.23.5 which is incompatible.\n",
            "xarray 2025.1.2 requires numpy>=1.24, but you have numpy 1.23.5 which is incompatible.\u001b[0m\u001b[31m\n",
            "\u001b[0mSuccessfully installed gensim-4.3.1 numpy-1.23.5 scipy-1.10.1\n"
          ]
        },
        {
          "output_type": "display_data",
          "data": {
            "application/vnd.colab-display-data+json": {
              "pip_warning": {
                "packages": [
                  "numpy"
                ]
              },
              "id": "bee32152da0843caa7f8ed0f484516c4"
            }
          },
          "metadata": {}
        }
      ]
    },
    {
      "cell_type": "code",
      "source": [
        "# Importação da Biblioteca\n",
        "from gensim.models import Word2Vec\n",
        "  # Word2Vec >>> criar os modelos de vetorização\n",
        "\n",
        "# Criação do Corpus\n",
        "corpus = [\n",
        "    [\"o\", \"cachorro\",\"está\",\"dormindo\"],\n",
        "    [\"o\",\"gato\",\"está\",\"dormindo\"]\n",
        "]\n",
        "\n",
        "# Criando o modelo de vetor\n",
        "model = Word2Vec(sentences=corpus, vector_size=100, window=5, min_count=1, sg=1)\n",
        "  # sentences = define o texto a ser transformado em vetor\n",
        "  # vector_size = define a dimensão dos vetores que representarão as palavras\n",
        "  # window = define a janela de contexto. considera as palavras antes e as palavras depois no alvo para aprender\n",
        "  # min_count = ignora as palavras que aparecer 1 vez no corpus\n",
        "  # indica o modelo utilizado\n",
        "    # 1 = skip_gram;\n",
        "    # 0 = CBOW\n",
        "\n",
        "# obtem o vetor da palavra\n",
        "vector = model.wv['cachorro']\n",
        "\n",
        "# calcula a similaridade de duas palavras\n",
        "similarity = model.wv.similarity('cachorro','gato')\n",
        "  # similaridade cosseno, qt mais próximo de 1, maior similaridade\n",
        "\n",
        "print(\"Similaridade entre 'cachorro' e 'gato': \", similarity)"
      ],
      "metadata": {
        "id": "noQzNrmOQwGd",
        "colab": {
          "base_uri": "https://localhost:8080/"
        },
        "outputId": "a1204176-3d1a-46db-e6ed-1a4b35abc172"
      },
      "execution_count": 1,
      "outputs": [
        {
          "output_type": "stream",
          "name": "stdout",
          "text": [
            "Similaridade entre 'cachorro' e 'gato':  -0.0446171\n"
          ]
        }
      ]
    },
    {
      "cell_type": "code",
      "source": [
        "from gensim.models import Word2Vec\n",
        "\n",
        "corpus = [\n",
        "    [\"o\", \"cachorro\", \"está\", \"latindo\", \"no\", \"quintal\"],\n",
        "    [\"o\", \"gato\", \"está\", \"miando\", \"no\", \"telhado\"],\n",
        "    [\"o\", \"pássaro\", \"está\", \"voando\", \"no\", \"céu\", 'lua'],\n",
        "    [\"a\", \"bola\", \"está\", \"rolando\", \"no\", \"chão\"],\n",
        "    [\"a\", \"criança\", \"está\", \"brincando\", \"com\", \"o\", \"cachorro\"],\n",
        "    [\"o\", \"gato\", \"e\", \"o\", \"rato\", \"são\", \"inimigos\"],\n",
        "    [\"a\", \"água\", \"está\", \"quente\", \"na\", \"caneca\"],\n",
        "    [\"o\", \"sol\", \"está\", \"brilhando\", \"no\", \"céu\"],\n",
        "    [\"a\", \"lua\", \"está\", \"cheia\", \"hoje\", 'no', 'céu'],\n",
        "    [\"a\", \"computador\", \"está\", \"ligado\", \"na\", \"mesa\"],\n",
        "    ['a','lua','está', 'no', 'céu', 'lua', 'bonita']\n",
        "]\n",
        "\n",
        "model = Word2Vec(sentences=corpus, vector_size=100, window=5, min_count=1, sg=1)\n",
        "\n",
        "# Calculando a similaridade entre palavras\n",
        "print(f\"Similaridade entre cachorro e gato: {model.wv.similarity('cachorro','gato')}\")\n",
        "print(f\"Similaridade entre cachorro e bola: {model.wv.similarity('cachorro','bola')}\")\n",
        "print(f\"Similaridade entre céu e lua: {model.wv.similarity('céu','lua')}\")\n",
        "print(f\"Similaridade entre computador e mesa: {model.wv.similarity('computador','mesa')}\")"
      ],
      "metadata": {
        "colab": {
          "base_uri": "https://localhost:8080/"
        },
        "id": "rT0KCLaf3nho",
        "outputId": "dfb8c90c-5c60-4112-f96c-77b9b5b3abfc"
      },
      "execution_count": 2,
      "outputs": [
        {
          "output_type": "stream",
          "name": "stdout",
          "text": [
            "Similaridade entre cachorro e gato: 0.008797231130301952\n",
            "Similaridade entre cachorro e bola: -0.12085192650556564\n",
            "Similaridade entre céu e lua: 0.1388162225484848\n",
            "Similaridade entre computador e mesa: 0.04975401982665062\n"
          ]
        }
      ]
    }
  ]
}