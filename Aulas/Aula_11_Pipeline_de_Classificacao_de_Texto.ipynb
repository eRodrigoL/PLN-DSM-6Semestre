{
  "nbformat": 4,
  "nbformat_minor": 0,
  "metadata": {
    "colab": {
      "provenance": []
    },
    "kernelspec": {
      "name": "python3",
      "display_name": "Python 3"
    },
    "language_info": {
      "name": "python"
    }
  },
  "cells": [
    {
      "cell_type": "markdown",
      "source": [
        "## 1. Objetivo:\n",
        " Aplicar os conceitos de Processamento de Linguagem Natural (PLN) para construir um pipeline completo de classificação de texto"
      ],
      "metadata": {
        "id": "FO2niLsinurv"
      }
    },
    {
      "cell_type": "markdown",
      "source": [
        "### 1.1. Objetivos específicos\n",
        "\n",
        "* Realizar o pré-processamento de texto, incluindo limpeza, tokenização, remoção de stopwords e stemming/lemmatization\n",
        "* Implementar diferentes métodos de extração de característixas (BagofWords, TF-IDF, Word Embeddings)\n",
        "* Treinar modelos de aprendizado de máquina para classificação de texto\n",
        "* Avaliar o desempenho de modelos utilizando métricas apropriadas\n",
        "* Comparar o desempenho de diferentes modelos e métodos de extração"
      ],
      "metadata": {
        "id": "uUBw-RYHnyNZ"
      }
    },
    {
      "cell_type": "markdown",
      "source": [
        "### Etapa 0: Criando a base de dados a ser utilizada"
      ],
      "metadata": {
        "id": "k9CvAU0Vn0tv"
      }
    },
    {
      "cell_type": "code",
      "source": [
        "# Criação da base de dados a ser utilizada para treinamento e teste\n",
        "\n",
        "# Importa a biblioteca pandas, utilizada para manipulação de dados em formato tabular\n",
        "import pandas as pd\n",
        "\n",
        "# Define um dicionário com duas chaves:\n",
        "# - 'texto': lista de frases representando opiniões diversas\n",
        "# - 'categoria': lista de rótulos associados aos textos (positivo ou negativo)\n",
        "data = {\n",
        "    'texto': [\n",
        "        \"Este é um ótimo filme!\",\n",
        "        \"O produto é muito ruim.\",\n",
        "        \"Adorei o atendimento ao cliente.\",\n",
        "        \"A entrega atrasou e o produto veio com defeito.\",\n",
        "        \"Recomendo este livro a todos!\",\n",
        "        \"Não gostei da experiência.\",\n",
        "        \"O serviço foi excelente.\",\n",
        "        \"Péssima qualidade, não comprem!\",\n",
        "        \"Amei o presente, muito obrigado!\",\n",
        "        \"Que decepção, perdi meu dinheiro.\"\n",
        "    ],\n",
        "    'categoria': [\n",
        "        \"positivo\",\n",
        "        \"negativo\",\n",
        "        \"positivo\",\n",
        "        \"negativo\",\n",
        "        \"positivo\",\n",
        "        \"negativo\",\n",
        "        \"positivo\",\n",
        "        \"negativo\",\n",
        "        \"positivo\",\n",
        "        \"negativo\"\n",
        "    ]\n",
        "}\n",
        "\n",
        "# Constrói um DataFrame a partir do dicionário definido acima\n",
        "# O DataFrame é uma estrutura bidimensional semelhante a uma tabela\n",
        "df = pd.DataFrame(data)\n",
        "\n",
        "# Exporta o DataFrame para um arquivo CSV (valores separados por vírgula)\n",
        "# Esse arquivo pode ser reutilizado para carregar os dados em futuros experimentos\n",
        "df.to_csv('dados_rotulados.csv', index=False, encoding='utf-8')\n",
        "\n",
        "# Confirma visualmente a criação e o salvamento do arquivo\n",
        "print(\"Base de dados criada e salva em 'dados_rotulados.csv'\")\n"
      ],
      "metadata": {
        "colab": {
          "base_uri": "https://localhost:8080/"
        },
        "id": "GzrqlJ7boypg",
        "outputId": "57d2a597-2864-4875-8551-92307d451ce9"
      },
      "execution_count": null,
      "outputs": [
        {
          "output_type": "stream",
          "name": "stdout",
          "text": [
            "Base de dados criada e salva em 'dados_rotulados.csv'\n"
          ]
        }
      ]
    },
    {
      "cell_type": "markdown",
      "source": [
        "### Etapa 1: Preparação dos dados"
      ],
      "metadata": {
        "id": "gRbfQCuJpNoN"
      }
    },
    {
      "cell_type": "code",
      "source": [
        "# Passo 1: importação das bibliotecas necessárias para pré-processamento e modelagem\n",
        "\n",
        "# nltk (Natural Language Toolkit): biblioteca para processamento de linguagem natural\n",
        "import nltk\n",
        "\n",
        "# spacy: biblioteca avançada para análise linguística (não será utilizada diretamente neste trecho, mas pode ser usada para lematização e parsing)\n",
        "import spacy\n",
        "\n",
        "# sklearn (scikit-learn): biblioteca para tarefas de aprendizado de máquina\n",
        "import sklearn\n",
        "\n",
        "# pandas: biblioteca para manipulação e análise de dados tabulares\n",
        "import pandas as pd\n",
        "\n",
        "# matplotlib.pyplot: módulo usado para geração de gráficos e visualizações\n",
        "import matplotlib.pyplot as plt\n",
        "\n",
        "# string: biblioteca padrão do Python com utilitários para manipulação de caracteres e pontuação\n",
        "import string\n",
        "\n",
        "# stopwords: palavras comuns da língua que geralmente são removidas em pré-processamento (ex: \"de\", \"a\", \"o\")\n",
        "from nltk.corpus import stopwords\n",
        "\n",
        "# word_tokenize: função do NLTK usada para dividir o texto em palavras (tokens)\n",
        "from nltk.tokenize import word_tokenize\n",
        "\n",
        "# SnowballStemmer: algoritmo para redução de palavras à sua raiz (ex: \"correndo\" → \"corr\")\n",
        "from nltk.stem import SnowballStemmer\n",
        "\n",
        "# train_test_split: função que divide os dados em conjuntos de treino e teste\n",
        "from sklearn.model_selection import train_test_split\n",
        "\n",
        "# Download dos recursos necessários do NLTK\n",
        "\n",
        "# Baixa a lista de stopwords em português e outras línguas\n",
        "nltk.download('stopwords')\n",
        "\n",
        "# Baixa o tokenizer padrão de palavras\n",
        "# OBS: a chave correta para tokenização de palavras é 'punkt', não 'punkt_tab'\n",
        "# Caso 'punkt_tab' esteja no código original por engano, o correto seria:\n",
        "nltk.download('punkt')\n"
      ],
      "metadata": {
        "colab": {
          "base_uri": "https://localhost:8080/"
        },
        "id": "xr-zlT1VpQvU",
        "outputId": "b14ed81e-8876-4885-d8fe-ac7127888902"
      },
      "execution_count": null,
      "outputs": [
        {
          "output_type": "stream",
          "name": "stderr",
          "text": [
            "[nltk_data] Downloading package stopwords to /root/nltk_data...\n",
            "[nltk_data]   Unzipping corpora/stopwords.zip.\n",
            "[nltk_data] Downloading package punkt to /root/nltk_data...\n",
            "[nltk_data]   Unzipping tokenizers/punkt.zip.\n"
          ]
        },
        {
          "output_type": "execute_result",
          "data": {
            "text/plain": [
              "True"
            ]
          },
          "metadata": {},
          "execution_count": 2
        }
      ]
    },
    {
      "cell_type": "code",
      "source": [
        "# Passo 2: carregamento do conjunto de dados previamente salvo em CSV\n",
        "\n",
        "# Lê o arquivo 'dados_rotulados.csv' e armazena o conteúdo em um DataFrame\n",
        "# O parâmetro encoding='utf-8' garante a leitura correta de acentuação e caracteres especiais\n",
        "data = pd.read_csv('dados_rotulados.csv', encoding='utf-8')\n",
        "\n",
        "# Passo 3: exploração inicial e visualização dos dados\n",
        "\n",
        "# Exibe informações estruturais do DataFrame, como número de entradas e tipos de dados\n",
        "print(\"Informações do conjunto de dados:\")\n",
        "print(data.info())\n",
        "\n",
        "# Exibe as 5 primeiras linhas da tabela para inspeção rápida\n",
        "print(\"\\nPrimeiras 5 linhas do conjunto de dados:\")\n",
        "print(data.head())\n",
        "\n",
        "# Visualiza a distribuição das categorias (positivo e negativo) no conjunto de dados\n",
        "plt.figure(figsize=(10, 5))\n",
        "data['categoria'].value_counts().plot(kind='bar')\n",
        "plt.title('Distribuição das Categorias')\n",
        "plt.xlabel('Categoria')\n",
        "plt.ylabel('Contagem')\n",
        "plt.show()\n",
        "\n",
        "# Calcula o número de caracteres em cada texto e plota a distribuição dos tamanhos\n",
        "tamanhos_textos = data['texto'].apply(len)\n",
        "plt.figure(figsize=(10, 5))\n",
        "plt.hist(tamanhos_textos, bins=50)\n",
        "plt.title('Tamanho dos Textos')\n",
        "plt.xlabel('Tamanho do Texto')\n",
        "plt.ylabel('Frequência')\n",
        "plt.show()\n",
        "\n",
        "# Passo 4: pré-processamento dos textos (limpeza e preparação para vetorização)\n",
        "\n",
        "def preprocessar_texto(texto):\n",
        "    # Passo 4.1: remoção de pontuação e dígitos numéricos\n",
        "    texto = texto.translate(str.maketrans('', '', string.punctuation))  # remove pontuações\n",
        "    texto = ''.join([c for c in texto if not c.isdigit()])  # remove números\n",
        "\n",
        "    # Passo 4.2: tokenização das palavras (conversão para minúsculas e divisão por palavras)\n",
        "    tokens = word_tokenize(texto.lower())\n",
        "\n",
        "    # Passo 4.3: remoção de stopwords (palavras comuns sem valor semântico forte)\n",
        "    stop_words = set(stopwords.words('portuguese'))\n",
        "    tokens = [palavra for palavra in tokens if palavra not in stop_words]\n",
        "\n",
        "    # Passo 4.4: aplicação de stemming para reduzir palavras à sua raiz\n",
        "    stemmer = SnowballStemmer('portuguese')\n",
        "    tokens = [stemmer.stem(palavra) for palavra in tokens]\n",
        "\n",
        "    # Junta os tokens processados em uma única string novamente\n",
        "    return ' '.join(tokens)\n",
        "\n",
        "# Aplica a função de pré-processamento a cada texto do DataFrame\n",
        "data['texto_processado'] = data['texto'].apply(preprocessar_texto)\n",
        "\n",
        "# Passo 5: divisão do conjunto em dados de treino e teste\n",
        "\n",
        "# A função train_test_split separa os dados em:\n",
        "# - X_train: textos processados para treino\n",
        "# - X_test: textos processados para teste\n",
        "# - y_train: rótulos (categorias) correspondentes ao treino\n",
        "# - y_test: rótulos correspondentes ao teste\n",
        "X_train, X_test, y_train, y_test = train_test_split(\n",
        "    data['texto_processado'], data['categoria'], test_size=0.2, random_state=42)\n",
        "\n",
        "# Exibe o número de amostras em cada subconjunto gerado\n",
        "print(\"\\nTamanho do conjunto de treinamento:\", len(X_train))\n",
        "print(\"Tamanho do conjunto de teste:\", len(X_test))\n"
      ],
      "metadata": {
        "colab": {
          "base_uri": "https://localhost:8080/",
          "height": 1000
        },
        "id": "7-jJqVVcqr4c",
        "outputId": "9ccebd1e-61e0-424c-9f5b-52faa6f6bdae"
      },
      "execution_count": null,
      "outputs": [
        {
          "output_type": "stream",
          "name": "stdout",
          "text": [
            "Informações do conjunto de dados:\n",
            "<class 'pandas.core.frame.DataFrame'>\n",
            "RangeIndex: 10 entries, 0 to 9\n",
            "Data columns (total 2 columns):\n",
            " #   Column     Non-Null Count  Dtype \n",
            "---  ------     --------------  ----- \n",
            " 0   texto      10 non-null     object\n",
            " 1   categoria  10 non-null     object\n",
            "dtypes: object(2)\n",
            "memory usage: 292.0+ bytes\n",
            "None\n",
            "\n",
            "Primeiras 5 linhas do conjunto de dados:\n",
            "                                             texto categoria\n",
            "0                           Este é um ótimo filme!  positivo\n",
            "1                          O produto é muito ruim.  negativo\n",
            "2                 Adorei o atendimento ao cliente.  positivo\n",
            "3  A entrega atrasou e o produto veio com defeito.  negativo\n",
            "4                    Recomendo este livro a todos!  positivo\n"
          ]
        },
        {
          "output_type": "display_data",
          "data": {
            "text/plain": [
              "<Figure size 1000x500 with 1 Axes>"
            ],
            "image/png": "[encoded data removed]"
          },
          "metadata": {}
        },
        {
          "output_type": "display_data",
          "data": {
            "text/plain": [
              "<Figure size 1000x500 with 1 Axes>"
            ],
            "image/png": "[encoded data removed]"
          },
          "metadata": {}
        },
        {
          "output_type": "error",
          "ename": "LookupError",
          "evalue": "\n**********************************************************************\n  Resource \u001b[93mpunkt_tab\u001b[0m not found.\n  Please use the NLTK Downloader to obtain the resource:\n\n  \u001b[31m>>> import nltk\n  >>> nltk.download('punkt_tab')\n  \u001b[0m\n  For more information see: https://www.nltk.org/data.html\n\n  Attempted to load \u001b[93mtokenizers/punkt_tab/english/\u001b[0m\n\n  Searched in:\n    - '/root/nltk_data'\n    - '/usr/nltk_data'\n    - '/usr/share/nltk_data'\n    - '/usr/lib/nltk_data'\n    - '/usr/share/nltk_data'\n    - '/usr/local/share/nltk_data'\n    - '/usr/lib/nltk_data'\n    - '/usr/local/lib/nltk_data'\n**********************************************************************\n",
          "traceback": [
            "\u001b[0;31m---------------------------------------------------------------------------\u001b[0m",
            "\u001b[0;31mLookupError\u001b[0m                               Traceback (most recent call last)",
            "\u001b[0;32m<ipython-input-3-3132031853>\u001b[0m in \u001b[0;36m<cell line: 0>\u001b[0;34m()\u001b[0m\n\u001b[1;32m     54\u001b[0m \u001b[0;34m\u001b[0m\u001b[0m\n\u001b[1;32m     55\u001b[0m \u001b[0;31m# Aplica a função de pré-processamento a cada texto do DataFrame\u001b[0m\u001b[0;34m\u001b[0m\u001b[0;34m\u001b[0m\u001b[0m\n\u001b[0;32m---> 56\u001b[0;31m \u001b[0mdata\u001b[0m\u001b[0;34m[\u001b[0m\u001b[0;34m'texto_processado'\u001b[0m\u001b[0;34m]\u001b[0m \u001b[0;34m=\u001b[0m \u001b[0mdata\u001b[0m\u001b[0;34m[\u001b[0m\u001b[0;34m'texto'\u001b[0m\u001b[0;34m]\u001b[0m\u001b[0;34m.\u001b[0m\u001b[0mapply\u001b[0m\u001b[0;34m(\u001b[0m\u001b[0mpreprocessar_texto\u001b[0m\u001b[0;34m)\u001b[0m\u001b[0;34m\u001b[0m\u001b[0;34m\u001b[0m\u001b[0m\n\u001b[0m\u001b[1;32m     57\u001b[0m \u001b[0;34m\u001b[0m\u001b[0m\n\u001b[1;32m     58\u001b[0m \u001b[0;31m# Passo 5: divisão do conjunto em dados de treino e teste\u001b[0m\u001b[0;34m\u001b[0m\u001b[0;34m\u001b[0m\u001b[0m\n",
            "\u001b[0;32m/usr/local/lib/python3.11/dist-packages/pandas/core/series.py\u001b[0m in \u001b[0;36mapply\u001b[0;34m(self, func, convert_dtype, args, by_row, **kwargs)\u001b[0m\n\u001b[1;32m   4922\u001b[0m             \u001b[0margs\u001b[0m\u001b[0;34m=\u001b[0m\u001b[0margs\u001b[0m\u001b[0;34m,\u001b[0m\u001b[0;34m\u001b[0m\u001b[0;34m\u001b[0m\u001b[0m\n\u001b[1;32m   4923\u001b[0m             \u001b[0mkwargs\u001b[0m\u001b[0;34m=\u001b[0m\u001b[0mkwargs\u001b[0m\u001b[0;34m,\u001b[0m\u001b[0;34m\u001b[0m\u001b[0;34m\u001b[0m\u001b[0m\n\u001b[0;32m-> 4924\u001b[0;31m         ).apply()\n\u001b[0m\u001b[1;32m   4925\u001b[0m \u001b[0;34m\u001b[0m\u001b[0m\n\u001b[1;32m   4926\u001b[0m     def _reindex_indexer(\n",
            "\u001b[0;32m/usr/local/lib/python3.11/dist-packages/pandas/core/apply.py\u001b[0m in \u001b[0;36mapply\u001b[0;34m(self)\u001b[0m\n\u001b[1;32m   1425\u001b[0m \u001b[0;34m\u001b[0m\u001b[0m\n\u001b[1;32m   1426\u001b[0m         \u001b[0;31m# self.func is Callable\u001b[0m\u001b[0;34m\u001b[0m\u001b[0;34m\u001b[0m\u001b[0m\n\u001b[0;32m-> 1427\u001b[0;31m         \u001b[0;32mreturn\u001b[0m \u001b[0mself\u001b[0m\u001b[0;34m.\u001b[0m\u001b[0mapply_standard\u001b[0m\u001b[0;34m(\u001b[0m\u001b[0;34m)\u001b[0m\u001b[0;34m\u001b[0m\u001b[0;34m\u001b[0m\u001b[0m\n\u001b[0m\u001b[1;32m   1428\u001b[0m \u001b[0;34m\u001b[0m\u001b[0m\n\u001b[1;32m   1429\u001b[0m     \u001b[0;32mdef\u001b[0m \u001b[0magg\u001b[0m\u001b[0;34m(\u001b[0m\u001b[0mself\u001b[0m\u001b[0;34m)\u001b[0m\u001b[0;34m:\u001b[0m\u001b[0;34m\u001b[0m\u001b[0;34m\u001b[0m\u001b[0m\n",
            "\u001b[0;32m/usr/local/lib/python3.11/dist-packages/pandas/core/apply.py\u001b[0m in \u001b[0;36mapply_standard\u001b[0;34m(self)\u001b[0m\n\u001b[1;32m   1505\u001b[0m         \u001b[0;31m#  Categorical (GH51645).\u001b[0m\u001b[0;34m\u001b[0m\u001b[0;34m\u001b[0m\u001b[0m\n\u001b[1;32m   1506\u001b[0m         \u001b[0maction\u001b[0m \u001b[0;34m=\u001b[0m \u001b[0;34m\"ignore\"\u001b[0m \u001b[0;32mif\u001b[0m \u001b[0misinstance\u001b[0m\u001b[0;34m(\u001b[0m\u001b[0mobj\u001b[0m\u001b[0;34m.\u001b[0m\u001b[0mdtype\u001b[0m\u001b[0;34m,\u001b[0m \u001b[0mCategoricalDtype\u001b[0m\u001b[0;34m)\u001b[0m \u001b[0;32melse\u001b[0m \u001b[0;32mNone\u001b[0m\u001b[0;34m\u001b[0m\u001b[0;34m\u001b[0m\u001b[0m\n\u001b[0;32m-> 1507\u001b[0;31m         mapped = obj._map_values(\n\u001b[0m\u001b[1;32m   1508\u001b[0m             \u001b[0mmapper\u001b[0m\u001b[0;34m=\u001b[0m\u001b[0mcurried\u001b[0m\u001b[0;34m,\u001b[0m \u001b[0mna_action\u001b[0m\u001b[0;34m=\u001b[0m\u001b[0maction\u001b[0m\u001b[0;34m,\u001b[0m \u001b[0mconvert\u001b[0m\u001b[0;34m=\u001b[0m\u001b[0mself\u001b[0m\u001b[0;34m.\u001b[0m\u001b[0mconvert_dtype\u001b[0m\u001b[0;34m\u001b[0m\u001b[0;34m\u001b[0m\u001b[0m\n\u001b[1;32m   1509\u001b[0m         )\n",
            "\u001b[0;32m/usr/local/lib/python3.11/dist-packages/pandas/core/base.py\u001b[0m in \u001b[0;36m_map_values\u001b[0;34m(self, mapper, na_action, convert)\u001b[0m\n\u001b[1;32m    919\u001b[0m             \u001b[0;32mreturn\u001b[0m \u001b[0marr\u001b[0m\u001b[0;34m.\u001b[0m\u001b[0mmap\u001b[0m\u001b[0;34m(\u001b[0m\u001b[0mmapper\u001b[0m\u001b[0;34m,\u001b[0m \u001b[0mna_action\u001b[0m\u001b[0;34m=\u001b[0m\u001b[0mna_action\u001b[0m\u001b[0;34m)\u001b[0m\u001b[0;34m\u001b[0m\u001b[0;34m\u001b[0m\u001b[0m\n\u001b[1;32m    920\u001b[0m \u001b[0;34m\u001b[0m\u001b[0m\n\u001b[0;32m--> 921\u001b[0;31m         \u001b[0;32mreturn\u001b[0m \u001b[0malgorithms\u001b[0m\u001b[0;34m.\u001b[0m\u001b[0mmap_array\u001b[0m\u001b[0;34m(\u001b[0m\u001b[0marr\u001b[0m\u001b[0;34m,\u001b[0m \u001b[0mmapper\u001b[0m\u001b[0;34m,\u001b[0m \u001b[0mna_action\u001b[0m\u001b[0;34m=\u001b[0m\u001b[0mna_action\u001b[0m\u001b[0;34m,\u001b[0m \u001b[0mconvert\u001b[0m\u001b[0;34m=\u001b[0m\u001b[0mconvert\u001b[0m\u001b[0;34m)\u001b[0m\u001b[0;34m\u001b[0m\u001b[0;34m\u001b[0m\u001b[0m\n\u001b[0m\u001b[1;32m    922\u001b[0m \u001b[0;34m\u001b[0m\u001b[0m\n\u001b[1;32m    923\u001b[0m     \u001b[0;34m@\u001b[0m\u001b[0mfinal\u001b[0m\u001b[0;34m\u001b[0m\u001b[0;34m\u001b[0m\u001b[0m\n",
            "\u001b[0;32m/usr/local/lib/python3.11/dist-packages/pandas/core/algorithms.py\u001b[0m in \u001b[0;36mmap_array\u001b[0;34m(arr, mapper, na_action, convert)\u001b[0m\n\u001b[1;32m   1741\u001b[0m     \u001b[0mvalues\u001b[0m \u001b[0;34m=\u001b[0m \u001b[0marr\u001b[0m\u001b[0;34m.\u001b[0m\u001b[0mastype\u001b[0m\u001b[0;34m(\u001b[0m\u001b[0mobject\u001b[0m\u001b[0;34m,\u001b[0m \u001b[0mcopy\u001b[0m\u001b[0;34m=\u001b[0m\u001b[0;32mFalse\u001b[0m\u001b[0;34m)\u001b[0m\u001b[0;34m\u001b[0m\u001b[0;34m\u001b[0m\u001b[0m\n\u001b[1;32m   1742\u001b[0m     \u001b[0;32mif\u001b[0m \u001b[0mna_action\u001b[0m \u001b[0;32mis\u001b[0m \u001b[0;32mNone\u001b[0m\u001b[0;34m:\u001b[0m\u001b[0;34m\u001b[0m\u001b[0;34m\u001b[0m\u001b[0m\n\u001b[0;32m-> 1743\u001b[0;31m         \u001b[0;32mreturn\u001b[0m \u001b[0mlib\u001b[0m\u001b[0;34m.\u001b[0m\u001b[0mmap_infer\u001b[0m\u001b[0;34m(\u001b[0m\u001b[0mvalues\u001b[0m\u001b[0;34m,\u001b[0m \u001b[0mmapper\u001b[0m\u001b[0;34m,\u001b[0m \u001b[0mconvert\u001b[0m\u001b[0;34m=\u001b[0m\u001b[0mconvert\u001b[0m\u001b[0;34m)\u001b[0m\u001b[0;34m\u001b[0m\u001b[0;34m\u001b[0m\u001b[0m\n\u001b[0m\u001b[1;32m   1744\u001b[0m     \u001b[0;32melse\u001b[0m\u001b[0;34m:\u001b[0m\u001b[0;34m\u001b[0m\u001b[0;34m\u001b[0m\u001b[0m\n\u001b[1;32m   1745\u001b[0m         return lib.map_infer_mask(\n",
            "\u001b[0;32mlib.pyx\u001b[0m in \u001b[0;36mpandas._libs.lib.map_infer\u001b[0;34m()\u001b[0m\n",
            "\u001b[0;32m<ipython-input-3-3132031853>\u001b[0m in \u001b[0;36mpreprocessar_texto\u001b[0;34m(texto)\u001b[0m\n\u001b[1;32m     40\u001b[0m \u001b[0;34m\u001b[0m\u001b[0m\n\u001b[1;32m     41\u001b[0m     \u001b[0;31m# Passo 4.2: tokenização das palavras (conversão para minúsculas e divisão por palavras)\u001b[0m\u001b[0;34m\u001b[0m\u001b[0;34m\u001b[0m\u001b[0m\n\u001b[0;32m---> 42\u001b[0;31m     \u001b[0mtokens\u001b[0m \u001b[0;34m=\u001b[0m \u001b[0mword_tokenize\u001b[0m\u001b[0;34m(\u001b[0m\u001b[0mtexto\u001b[0m\u001b[0;34m.\u001b[0m\u001b[0mlower\u001b[0m\u001b[0;34m(\u001b[0m\u001b[0;34m)\u001b[0m\u001b[0;34m)\u001b[0m\u001b[0;34m\u001b[0m\u001b[0;34m\u001b[0m\u001b[0m\n\u001b[0m\u001b[1;32m     43\u001b[0m \u001b[0;34m\u001b[0m\u001b[0m\n\u001b[1;32m     44\u001b[0m     \u001b[0;31m# Passo 4.3: remoção de stopwords (palavras comuns sem valor semântico forte)\u001b[0m\u001b[0;34m\u001b[0m\u001b[0;34m\u001b[0m\u001b[0m\n",
            "\u001b[0;32m/usr/local/lib/python3.11/dist-packages/nltk/tokenize/__init__.py\u001b[0m in \u001b[0;36mword_tokenize\u001b[0;34m(text, language, preserve_line)\u001b[0m\n\u001b[1;32m    140\u001b[0m     \u001b[0;34m:\u001b[0m\u001b[0mtype\u001b[0m \u001b[0mpreserve_line\u001b[0m\u001b[0;34m:\u001b[0m \u001b[0mbool\u001b[0m\u001b[0;34m\u001b[0m\u001b[0;34m\u001b[0m\u001b[0m\n\u001b[1;32m    141\u001b[0m     \"\"\"\n\u001b[0;32m--> 142\u001b[0;31m     \u001b[0msentences\u001b[0m \u001b[0;34m=\u001b[0m \u001b[0;34m[\u001b[0m\u001b[0mtext\u001b[0m\u001b[0;34m]\u001b[0m \u001b[0;32mif\u001b[0m \u001b[0mpreserve_line\u001b[0m \u001b[0;32melse\u001b[0m \u001b[0msent_tokenize\u001b[0m\u001b[0;34m(\u001b[0m\u001b[0mtext\u001b[0m\u001b[0;34m,\u001b[0m \u001b[0mlanguage\u001b[0m\u001b[0;34m)\u001b[0m\u001b[0;34m\u001b[0m\u001b[0;34m\u001b[0m\u001b[0m\n\u001b[0m\u001b[1;32m    143\u001b[0m     return [\n\u001b[1;32m    144\u001b[0m         \u001b[0mtoken\u001b[0m \u001b[0;32mfor\u001b[0m \u001b[0msent\u001b[0m \u001b[0;32min\u001b[0m \u001b[0msentences\u001b[0m \u001b[0;32mfor\u001b[0m \u001b[0mtoken\u001b[0m \u001b[0;32min\u001b[0m \u001b[0m_treebank_word_tokenizer\u001b[0m\u001b[0;34m.\u001b[0m\u001b[0mtokenize\u001b[0m\u001b[0;34m(\u001b[0m\u001b[0msent\u001b[0m\u001b[0;34m)\u001b[0m\u001b[0;34m\u001b[0m\u001b[0;34m\u001b[0m\u001b[0m\n",
            "\u001b[0;32m/usr/local/lib/python3.11/dist-packages/nltk/tokenize/__init__.py\u001b[0m in \u001b[0;36msent_tokenize\u001b[0;34m(text, language)\u001b[0m\n\u001b[1;32m    117\u001b[0m     \u001b[0;34m:\u001b[0m\u001b[0mparam\u001b[0m \u001b[0mlanguage\u001b[0m\u001b[0;34m:\u001b[0m \u001b[0mthe\u001b[0m \u001b[0mmodel\u001b[0m \u001b[0mname\u001b[0m \u001b[0;32min\u001b[0m \u001b[0mthe\u001b[0m \u001b[0mPunkt\u001b[0m \u001b[0mcorpus\u001b[0m\u001b[0;34m\u001b[0m\u001b[0;34m\u001b[0m\u001b[0m\n\u001b[1;32m    118\u001b[0m     \"\"\"\n\u001b[0;32m--> 119\u001b[0;31m     \u001b[0mtokenizer\u001b[0m \u001b[0;34m=\u001b[0m \u001b[0m_get_punkt_tokenizer\u001b[0m\u001b[0;34m(\u001b[0m\u001b[0mlanguage\u001b[0m\u001b[0;34m)\u001b[0m\u001b[0;34m\u001b[0m\u001b[0;34m\u001b[0m\u001b[0m\n\u001b[0m\u001b[1;32m    120\u001b[0m     \u001b[0;32mreturn\u001b[0m \u001b[0mtokenizer\u001b[0m\u001b[0;34m.\u001b[0m\u001b[0mtokenize\u001b[0m\u001b[0;34m(\u001b[0m\u001b[0mtext\u001b[0m\u001b[0;34m)\u001b[0m\u001b[0;34m\u001b[0m\u001b[0;34m\u001b[0m\u001b[0m\n\u001b[1;32m    121\u001b[0m \u001b[0;34m\u001b[0m\u001b[0m\n",
            "\u001b[0;32m/usr/local/lib/python3.11/dist-packages/nltk/tokenize/__init__.py\u001b[0m in \u001b[0;36m_get_punkt_tokenizer\u001b[0;34m(language)\u001b[0m\n\u001b[1;32m    103\u001b[0m     \u001b[0;34m:\u001b[0m\u001b[0mtype\u001b[0m \u001b[0mlanguage\u001b[0m\u001b[0;34m:\u001b[0m \u001b[0mstr\u001b[0m\u001b[0;34m\u001b[0m\u001b[0;34m\u001b[0m\u001b[0m\n\u001b[1;32m    104\u001b[0m     \"\"\"\n\u001b[0;32m--> 105\u001b[0;31m     \u001b[0;32mreturn\u001b[0m \u001b[0mPunktTokenizer\u001b[0m\u001b[0;34m(\u001b[0m\u001b[0mlanguage\u001b[0m\u001b[0;34m)\u001b[0m\u001b[0;34m\u001b[0m\u001b[0;34m\u001b[0m\u001b[0m\n\u001b[0m\u001b[1;32m    106\u001b[0m \u001b[0;34m\u001b[0m\u001b[0m\n\u001b[1;32m    107\u001b[0m \u001b[0;34m\u001b[0m\u001b[0m\n",
            "\u001b[0;32m/usr/local/lib/python3.11/dist-packages/nltk/tokenize/punkt.py\u001b[0m in \u001b[0;36m__init__\u001b[0;34m(self, lang)\u001b[0m\n\u001b[1;32m   1742\u001b[0m     \u001b[0;32mdef\u001b[0m \u001b[0m__init__\u001b[0m\u001b[0;34m(\u001b[0m\u001b[0mself\u001b[0m\u001b[0;34m,\u001b[0m \u001b[0mlang\u001b[0m\u001b[0;34m=\u001b[0m\u001b[0;34m\"english\"\u001b[0m\u001b[0;34m)\u001b[0m\u001b[0;34m:\u001b[0m\u001b[0;34m\u001b[0m\u001b[0;34m\u001b[0m\u001b[0m\n\u001b[1;32m   1743\u001b[0m         \u001b[0mPunktSentenceTokenizer\u001b[0m\u001b[0;34m.\u001b[0m\u001b[0m__init__\u001b[0m\u001b[0;34m(\u001b[0m\u001b[0mself\u001b[0m\u001b[0;34m)\u001b[0m\u001b[0;34m\u001b[0m\u001b[0;34m\u001b[0m\u001b[0m\n\u001b[0;32m-> 1744\u001b[0;31m         \u001b[0mself\u001b[0m\u001b[0;34m.\u001b[0m\u001b[0mload_lang\u001b[0m\u001b[0;34m(\u001b[0m\u001b[0mlang\u001b[0m\u001b[0;34m)\u001b[0m\u001b[0;34m\u001b[0m\u001b[0;34m\u001b[0m\u001b[0m\n\u001b[0m\u001b[1;32m   1745\u001b[0m \u001b[0;34m\u001b[0m\u001b[0m\n\u001b[1;32m   1746\u001b[0m     \u001b[0;32mdef\u001b[0m \u001b[0mload_lang\u001b[0m\u001b[0;34m(\u001b[0m\u001b[0mself\u001b[0m\u001b[0;34m,\u001b[0m \u001b[0mlang\u001b[0m\u001b[0;34m=\u001b[0m\u001b[0;34m\"english\"\u001b[0m\u001b[0;34m)\u001b[0m\u001b[0;34m:\u001b[0m\u001b[0;34m\u001b[0m\u001b[0;34m\u001b[0m\u001b[0m\n",
            "\u001b[0;32m/usr/local/lib/python3.11/dist-packages/nltk/tokenize/punkt.py\u001b[0m in \u001b[0;36mload_lang\u001b[0;34m(self, lang)\u001b[0m\n\u001b[1;32m   1747\u001b[0m         \u001b[0;32mfrom\u001b[0m \u001b[0mnltk\u001b[0m\u001b[0;34m.\u001b[0m\u001b[0mdata\u001b[0m \u001b[0;32mimport\u001b[0m \u001b[0mfind\u001b[0m\u001b[0;34m\u001b[0m\u001b[0;34m\u001b[0m\u001b[0m\n\u001b[1;32m   1748\u001b[0m \u001b[0;34m\u001b[0m\u001b[0m\n\u001b[0;32m-> 1749\u001b[0;31m         \u001b[0mlang_dir\u001b[0m \u001b[0;34m=\u001b[0m \u001b[0mfind\u001b[0m\u001b[0;34m(\u001b[0m\u001b[0;34mf\"tokenizers/punkt_tab/{lang}/\"\u001b[0m\u001b[0;34m)\u001b[0m\u001b[0;34m\u001b[0m\u001b[0;34m\u001b[0m\u001b[0m\n\u001b[0m\u001b[1;32m   1750\u001b[0m         \u001b[0mself\u001b[0m\u001b[0;34m.\u001b[0m\u001b[0m_params\u001b[0m \u001b[0;34m=\u001b[0m \u001b[0mload_punkt_params\u001b[0m\u001b[0;34m(\u001b[0m\u001b[0mlang_dir\u001b[0m\u001b[0;34m)\u001b[0m\u001b[0;34m\u001b[0m\u001b[0;34m\u001b[0m\u001b[0m\n\u001b[1;32m   1751\u001b[0m         \u001b[0mself\u001b[0m\u001b[0;34m.\u001b[0m\u001b[0m_lang\u001b[0m \u001b[0;34m=\u001b[0m \u001b[0mlang\u001b[0m\u001b[0;34m\u001b[0m\u001b[0;34m\u001b[0m\u001b[0m\n",
            "\u001b[0;32m/usr/local/lib/python3.11/dist-packages/nltk/data.py\u001b[0m in \u001b[0;36mfind\u001b[0;34m(resource_name, paths)\u001b[0m\n\u001b[1;32m    577\u001b[0m     \u001b[0msep\u001b[0m \u001b[0;34m=\u001b[0m \u001b[0;34m\"*\"\u001b[0m \u001b[0;34m*\u001b[0m \u001b[0;36m70\u001b[0m\u001b[0;34m\u001b[0m\u001b[0;34m\u001b[0m\u001b[0m\n\u001b[1;32m    578\u001b[0m     \u001b[0mresource_not_found\u001b[0m \u001b[0;34m=\u001b[0m \u001b[0;34mf\"\\n{sep}\\n{msg}\\n{sep}\\n\"\u001b[0m\u001b[0;34m\u001b[0m\u001b[0;34m\u001b[0m\u001b[0m\n\u001b[0;32m--> 579\u001b[0;31m     \u001b[0;32mraise\u001b[0m \u001b[0mLookupError\u001b[0m\u001b[0;34m(\u001b[0m\u001b[0mresource_not_found\u001b[0m\u001b[0;34m)\u001b[0m\u001b[0;34m\u001b[0m\u001b[0;34m\u001b[0m\u001b[0m\n\u001b[0m\u001b[1;32m    580\u001b[0m \u001b[0;34m\u001b[0m\u001b[0m\n\u001b[1;32m    581\u001b[0m \u001b[0;34m\u001b[0m\u001b[0m\n",
            "\u001b[0;31mLookupError\u001b[0m: \n**********************************************************************\n  Resource \u001b[93mpunkt_tab\u001b[0m not found.\n  Please use the NLTK Downloader to obtain the resource:\n\n  \u001b[31m>>> import nltk\n  >>> nltk.download('punkt_tab')\n  \u001b[0m\n  For more information see: https://www.nltk.org/data.html\n\n  Attempted to load \u001b[93mtokenizers/punkt_tab/english/\u001b[0m\n\n  Searched in:\n    - '/root/nltk_data'\n    - '/usr/nltk_data'\n    - '/usr/share/nltk_data'\n    - '/usr/lib/nltk_data'\n    - '/usr/share/nltk_data'\n    - '/usr/local/share/nltk_data'\n    - '/usr/lib/nltk_data'\n    - '/usr/local/lib/nltk_data'\n**********************************************************************\n"
          ]
        }
      ]
    },
    {
      "cell_type": "markdown",
      "source": [
        "### Etapa 2: Extração de características"
      ],
      "metadata": {
        "id": "RGu7aclcq5H_"
      }
    },
    {
      "cell_type": "code",
      "source": [
        "# Importação das bibliotecas utilizadas para vetorização, modelagem e avaliação\n",
        "\n",
        "# TfidfVectorizer: converte textos em vetores numéricos com pesos baseados na frequência e relevância das palavras\n",
        "from sklearn.feature_extraction.text import TfidfVectorizer\n",
        "\n",
        "# MultinomialNB: algoritmo Naive Bayes Multinomial, adequado para classificação de texto com base em frequências\n",
        "from sklearn.naive_bayes import MultinomialNB\n",
        "\n",
        "# accuracy_score e classification_report: métricas de avaliação da performance do modelo\n",
        "from sklearn.metrics import accuracy_score, classification_report\n",
        "\n",
        "# train_test_split já foi utilizado anteriormente para dividir os dados\n",
        "\n",
        "# Etapa 2: extração de características com TF-IDF\n",
        "\n",
        "# Inicializa o vetor de transformação TF-IDF\n",
        "# Esta técnica atribui peso maior às palavras frequentes em um texto, mas raras no conjunto\n",
        "vectorizer = TfidfVectorizer()\n",
        "\n",
        "# Ajusta o vetorizador com os dados de treino e transforma os textos em vetores numéricos esparsos\n",
        "X_train_tfidf = vectorizer.fit_transform(X_train)\n",
        "\n",
        "# Transforma os dados de teste usando o mesmo vocabulário do treino\n",
        "X_test_tfidf = vectorizer.transform(X_test)\n",
        "\n",
        "# Exibe a quantidade total de características (palavras ou n-gramas) extraídas do vocabulário\n",
        "print(\"\\nNúmero de características extraídas: \", X_train_tfidf.shape[1])\n",
        "\n",
        "# Etapa 3: treinamento do modelo de classificação\n",
        "\n",
        "# Instancia o classificador Naive Bayes Multinomial\n",
        "modelo = MultinomialNB()\n",
        "\n",
        "# Treina o modelo utilizando os vetores TF-IDF e os rótulos do conjunto de treino\n",
        "modelo.fit(X_train_tfidf, y_train)\n",
        "\n",
        "# Passo 4: avaliação do modelo\n",
        "\n",
        "# Realiza a previsão dos rótulos para os dados de teste\n",
        "y_pred = modelo.predict(X_test_tfidf)\n",
        "\n",
        "# Calcula a acurácia (proporção de acertos) do modelo\n",
        "acuracia = accuracy_score(y_test, y_pred)\n",
        "\n",
        "# Exibe a acurácia e o relatório de desempenho detalhado (precisão, recall e F1-score por classe)\n",
        "print(\"\\nAcurácia do modelo:\", acuracia)\n",
        "print(\"\\nRelatório de Classificação:\\n\", classification_report(y_test, y_pred))\n",
        "\n",
        "# Passo 5: classificação de um novo texto utilizando o modelo treinado\n",
        "\n",
        "# Define função auxiliar para aplicar todas as etapas de pré-processamento e predição\n",
        "def classificar_texto(texto, vectorizer, modelo):\n",
        "    # Pré-processamento do texto de entrada\n",
        "    texto_processado = preprocessar_texto(texto)\n",
        "\n",
        "    # Vetorização com o modelo TF-IDF treinado\n",
        "    texto_tfidf = vectorizer.transform([texto_processado])\n",
        "\n",
        "    # Predição da categoria mais provável\n",
        "    categoria_prevista = modelo.predict(texto_tfidf)[0]\n",
        "\n",
        "    # (Opcional) obtenção das probabilidades associadas a cada categoria\n",
        "    probabilidades = modelo.predict_proba(texto_tfidf)[0]\n",
        "    categorias = modelo.classes_\n",
        "    probabilidades_por_categoria = dict(zip(categorias, probabilidades))\n",
        "\n",
        "    return categoria_prevista, probabilidades_por_categoria\n",
        "\n",
        "# Exemplo de uso da função com um novo texto\n",
        "novo_texto = \"Este filme é incrível, recomendo a todos\"\n",
        "categoria, probabilidades = classificar_texto(novo_texto, vectorizer, modelo)\n",
        "\n",
        "# Exibe os resultados da classificação\n",
        "print(\"\\nNovo texto:\", novo_texto)\n",
        "print(\"Categoria prevista: \", categoria)\n",
        "print(\"Probabilidades por categoria:\", probabilidades)\n"
      ],
      "metadata": {
        "id": "DyrNhtxlq7zk"
      },
      "execution_count": null,
      "outputs": []
    },
    {
      "cell_type": "markdown",
      "source": [
        "**Comentário**\n",
        "\n",
        "O uso de TF-IDF aqui é adequado por valorizar termos relevantes para cada documento, atenuando o peso de palavras muito frequentes. Isso ajuda na separação entre classes de sentimentos, tornando o modelo mais sensível às palavras distintivas. É uma escolha superior ao CountVectorizer para tarefas onde a frequência relativa importa mais que a bruta."
      ],
      "metadata": {
        "id": "FACRwgh7Cu5G"
      }
    },
    {
      "cell_type": "markdown",
      "source": [
        "### Etapa 3: Treinamento do modelo"
      ],
      "metadata": {
        "id": "ojhaznmgrdXa"
      }
    },
    {
      "cell_type": "code",
      "source": [
        "# Importação das ferramentas utilizadas para modelagem e ajuste de hiperparâmetros\n",
        "\n",
        "# LogisticRegression: classificador linear amplamente utilizado em tarefas de classificação binária\n",
        "from sklearn.linear_model import LogisticRegression\n",
        "\n",
        "# SVC: Support Vector Classifier (SVM), utilizado para encontrar hiperplanos de separação ótimos\n",
        "from sklearn.svm import SVC\n",
        "\n",
        "# GridSearchCV: ferramenta para ajuste de hiperparâmetros com validação cruzada\n",
        "from sklearn.model_selection import GridSearchCV\n",
        "\n",
        "# Etapa 3: treinamento dos modelos de aprendizado de máquina\n",
        "\n",
        "# Passo 1: escolha de modelos para experimentação\n",
        "# Neste caso, são utilizados três classificadores: Naive Bayes, Regressão Logística e SVM\n",
        "\n",
        "# Passo 2: instanciação dos modelos\n",
        "naive_bayes_model = MultinomialNB()\n",
        "logistic_regression_model = LogisticRegression(random_state=42)\n",
        "svm_model = SVC(random_state=42, probability=True)  # probability=True necessário para obter predict_proba()\n",
        "\n",
        "# Passo 3: treinamento dos modelos com os vetores TF-IDF\n",
        "naive_bayes_model.fit(X_train_tfidf, y_train)\n",
        "svm_model.fit(X_train_tfidf, y_train)\n",
        "\n",
        "# Passo 4: ajuste de hiperparâmetros com validação cruzada\n",
        "\n",
        "# Define a grade de parâmetros a ser explorada para cada modelo\n",
        "# Naive Bayes não exige ajuste de hiperparâmetros em sua configuração padrão\n",
        "param_grid_nb = {}\n",
        "\n",
        "# Parâmetros para ajuste da Regressão Logística: força da regularização (C) e algoritmo de otimização (solver)\n",
        "param_grid_lr = {'C': [0.1, 1, 10], 'solver': ['liblinear', 'lbfgs']}\n",
        "\n",
        "# Parâmetros para ajuste do SVM: força da margem (C) e tipo de kernel (linear ou radial)\n",
        "param_grid_svm = {'C': [0.1, 1, 10], 'kernel': ['linear', 'rbf']}\n",
        "\n",
        "# Inicializa o processo de busca em grade com validação cruzada (cv=2)\n",
        "grid_search_lr = GridSearchCV(logistic_regression_model, param_grid_lr, cv=2)\n",
        "grid_search_svm = GridSearchCV(svm_model, param_grid_svm, cv=2)\n",
        "\n",
        "# Ajusta os modelos com os melhores hiperparâmetros encontrados durante a validação cruzada\n",
        "grid_search_lr.fit(X_train_tfidf, y_train)\n",
        "grid_search_svm.fit(X_train_tfidf, y_train)\n",
        "\n",
        "# Exibe os melhores parâmetros encontrados para cada modelo\n",
        "print(\"\\nMelhores hiperparâmetros para Regressão Logística: \", grid_search_lr.best_params_)\n",
        "print(\"Melhores hiperparâmetros para SVM:\", grid_search_svm.best_params_)\n",
        "\n",
        "# Obtém os modelos já ajustados com os melhores parâmetros\n",
        "best_logistic_regression_model = grid_search_lr.best_estimator_\n",
        "best_svm_model = grid_search_svm.best_estimator_\n",
        "\n",
        "# Passo 4: avaliação dos modelos utilizando os dados de teste\n",
        "\n",
        "print(\"\\nResultados da avaliação:\")\n",
        "\n",
        "# Avaliação do modelo Naive Bayes\n",
        "y_pred_nb = naive_bayes_model.predict(X_test_tfidf)\n",
        "acuracia_nb = accuracy_score(y_test, y_pred_nb)\n",
        "print(\"\\nNaive Bayes Multinomial:\")\n",
        "print(\"Acurácia:\", acuracia_nb)\n",
        "print(\"Relatório de Classificação:\\n\", classification_report(y_test, y_pred_nb))\n",
        "\n",
        "# Avaliação do modelo Regressão Logística ajustado com GridSearchCV\n",
        "y_pred_lr = best_logistic_regression_model.predict(X_test_tfidf)\n",
        "acuracia_lr = accuracy_score(y_test, y_pred_lr)\n",
        "print(\"\\nRegressão Logística:\")\n",
        "print(\"Acurácia\", acuracia_lr)\n",
        "print(\"Relatório de Classificação: \\n\", classification_report(y_test, y_pred_lr))\n",
        "\n",
        "# Passo 5: classificação de um novo texto com qualquer modelo treinado\n",
        "\n",
        "# Define função reutilizável para classificar novos textos usando qualquer modelo treinado\n",
        "def classificar_texto(texto, vectorizer, modelo):\n",
        "    # Aplica pré-processamento ao texto original\n",
        "    texto_processado = preprocessar_texto(texto)\n",
        "\n",
        "    # Transforma o texto em vetor TF-IDF\n",
        "    texto_tfidf = vectorizer.transform([texto_processado])\n",
        "\n",
        "    # Predição da categoria\n",
        "    categoria_prevista = modelo.predict(texto_tfidf)[0]\n",
        "\n",
        "    # (Opcional) cálculo das probabilidades associadas a cada classe\n",
        "    probabilidades = modelo.predict_proba(texto_tfidf)[0]\n",
        "    categorias = modelo.classes_\n",
        "    probabilidades_por_categoria = dict(zip(categorias, probabilidades))\n",
        "\n",
        "    return categoria_prevista, probabilidades_por_categoria\n"
      ],
      "metadata": {
        "id": "A4ZiRr6WsJ7y"
      },
      "execution_count": null,
      "outputs": []
    },
    {
      "cell_type": "code",
      "source": [
        "# Exemplo de uso da função para classificar um novo texto\n",
        "\n",
        "# Texto a ser classificado\n",
        "novo_texto = \"Este filme é incrível, recomendo a todos!\"\n",
        "\n",
        "# Classificação do texto utilizando os três modelos treinados\n",
        "categoria_nb, probabilidades_nb = classificar_texto(novo_texto, vectorizer, naive_bayes_model)\n",
        "categoria_lr, probabilidades_lr = classificar_texto(novo_texto, vectorizer, best_logistic_regression_model)\n",
        "categoria_svm, probabilidades_svm = classificar_texto(novo_texto, vectorizer, best_svm_model)\n",
        "\n",
        "# Impressão dos resultados de classificação\n",
        "print(\"\\nNovo texto:\", novo_texto)\n",
        "print(\"\\nResultados da classificação:\")\n",
        "\n",
        "print(\"\\nNaive Bayes Multinomial:\")\n",
        "print(\"Categoria prevista:\", categoria_nb)\n",
        "print(\"Probabilidade por categoria:\", probabilidades_nb)\n",
        "\n",
        "print(\"\\nRegressão Logística:\")\n",
        "print(\"Categoria prevista:\", categoria_lr)\n",
        "print(\"Probabilidade por categoria:\", probabilidades_lr)\n",
        "\n",
        "print(\"\\nSVM:\")\n",
        "print(\"Categoria prevista:\", categoria_svm)\n",
        "print(\"Probabilidades por categoria:\", probabilidades_svm)\n"
      ],
      "metadata": {
        "id": "0-8xgyKwsVQ3"
      },
      "execution_count": null,
      "outputs": []
    },
    {
      "cell_type": "markdown",
      "source": [
        "### Etapa 4: Avaliação do modelo"
      ],
      "metadata": {
        "id": "PTcwFKAhsa_K"
      }
    },
    {
      "cell_type": "code",
      "source": [
        "# Etapa 4: Avaliação do modelo\n",
        "# Passo 1: Fazer previsões no conjunto de teste usando os modelos treinados\n",
        "# Passo 2: Calcular as métricas de desempenho apropriadas (precisão, revocação, F1-score, acurácia)\n",
        "# Passo 3: Exibir e analisar os resultados\n",
        "\n",
        "print(\"\\nEtapa: Avaliação do Modelo\")\n",
        "print(\"\\nResultados da Avaliação:\")\n",
        "\n",
        "# Avaliação do modelo Naive Bayes\n",
        "y_pred_nb = naive_bayes_model.predict(X_test_tfidf)\n",
        "acuracia_nb = accuracy_score(y_test, y_pred_nb)\n",
        "print(\"\\nNaive Bayes Multinomial:\")\n",
        "print(\"Acurácia:\", acuracia_nb)\n",
        "print(\"Relatório de Classificação:\\n\", classification_report(y_test, y_pred_nb, zero_division=0))\n",
        "\n",
        "# Avaliação do modelo de Regressão Logística\n",
        "y_pred_lr = best_logistic_regression_model.predict(X_test_tfidf)\n",
        "acuracia_lr = accuracy_score(y_test, y_pred_lr)\n",
        "print(\"\\nRegressão Logística:\")\n",
        "print(\"Acurácia:\", acuracia_lr)\n",
        "print(\"Relatório de Classificação:\\n\", classification_report(y_test, y_pred_lr, zero_division=0))\n",
        "\n",
        "# Avaliação do modelo SVM\n",
        "y_pred_svm = best_svm_model.predict(X_test_tfidf)\n",
        "acuracia_svm = accuracy_score(y_test, y_pred_svm)\n",
        "print(\"\\nSVM:\")\n",
        "print(\"Acurácia:\", acuracia_svm)\n",
        "print(\"Relatório de Classificação:\\n\", classification_report(y_test, y_pred_svm, zero_division=0))\n",
        "\n",
        "# Passo 4: Comparar o desempenho dos diferentes modelos\n",
        "print(\"\\nComparação de Modelos:\")\n",
        "print(f\"- Acurácia Naive Bayes: {acuracia_nb:.4f}\")\n",
        "print(f\"- Acurácia Regressão Logística: {acuracia_lr:.4f}\")\n",
        "print(f\"- Acurácia SVM: {acuracia_svm:.4f}\")\n",
        "\n",
        "# Visualização gráfica da comparação de acurácia\n",
        "modelos = ['Naive Bayes', 'Regressão Logística', 'SVM']\n",
        "acuracias = [acuracia_nb, acuracia_lr, acuracia_svm]\n",
        "\n",
        "plt.figure(figsize=(8, 6))\n",
        "plt.bar(modelos, acuracias, color=['blue', 'green', 'red'])\n",
        "plt.xlabel('Modelo')\n",
        "plt.ylabel('Acurácia')\n",
        "plt.title('Comparação de Acurácia dos Modelos')\n",
        "plt.ylim(0, 1)  # Define o limite do eixo Y entre 0 e 1\n",
        "plt.show()\n"
      ],
      "metadata": {
        "id": "yPec2tldsceV"
      },
      "execution_count": null,
      "outputs": []
    },
    {
      "cell_type": "markdown",
      "source": [
        "### Etapa 5: Classificação de um novo texto"
      ],
      "metadata": {
        "id": "q_gNtGOks1PF"
      }
    },
    {
      "cell_type": "code",
      "source": [
        "# Etapa 5: Classificação de um novo texto\n",
        "\n",
        "print(\"\\nEtapa 5: Classificação de um novo texto\")\n",
        "\n",
        "# Função para classificar um novo texto com qualquer modelo treinado\n",
        "def classificar_novo_texto(texto, vectorizer, modelo):\n",
        "  # Etapa 1: Pré-processar o texto usando a mesma função do treinamento\n",
        "  texto_processado = preprocessar_texto(texto)\n",
        "\n",
        "  # Etapa 2: Transformar o texto pré-processado em vetor numérico TF-IDF\n",
        "  # A vetorização deve ser feita com o mesmo vetor (vectorizer) treinado anteriormente\n",
        "  texto_tfidf = vectorizer.transform([texto_processado])\n",
        "\n",
        "  # Etapa 3: Fazer a predição da categoria com base no texto vetorizado\n",
        "  categoria_prevista = modelo.predict(texto_tfidf)[0]  # [0] pois retorna uma lista com um único elemento\n",
        "\n",
        "  try:\n",
        "    # Tentar obter as probabilidades de cada categoria (se o modelo suportar)\n",
        "    probabilidades = modelo.predict_proba(texto_tfidf)[0]  # [0] pois é apenas um texto\n",
        "    categorias = modelo.classes_  # Lista das classes possíveis no modelo\n",
        "    # Criar um dicionário mapeando categoria → probabilidade\n",
        "    probabilidades_por_categoria = dict(zip(categorias, probabilidades))\n",
        "    return categoria_prevista, probabilidades_por_categoria\n",
        "\n",
        "  except AttributeError:\n",
        "    # Caso o modelo não tenha suporte para predict_proba (ex: SVM sem probability=True)\n",
        "    # Retorna apenas a categoria prevista, sem probabilidades\n",
        "    return categoria_prevista, {}\n",
        "\n",
        "# Exemplo prático: texto a ser classificado\n",
        "novo_texto = \"Este filme é incrível, recomendo a todos!\"\n",
        "print(\"\\nNovo texto:\", novo_texto)\n",
        "\n",
        "# Classificação com modelo Naive Bayes\n",
        "categoria_nb, probabilidades_nb = classificar_novo_texto(novo_texto, vectorizer, naive_bayes_model)\n",
        "print(\"\\nNaive Bayes:\")\n",
        "print(\"Categoria prevista:\", categoria_nb)\n",
        "if probabilidades_nb:\n",
        "  print(\"Probabilidades:\", probabilidades_nb)\n",
        "\n",
        "# Classificação com modelo de Regressão Logística\n",
        "categoria_lr, probabilidades_lr = classificar_novo_texto(novo_texto, vectorizer, best_logistic_regression_model)\n",
        "print(\"\\nRegressão Logística:\")\n",
        "print(\"Categoria prevista:\", categoria_lr)\n",
        "if probabilidades_lr:\n",
        "  print(\"Probabilidades:\", probabilidades_lr)\n",
        "\n",
        "# Classificação com modelo SVM\n",
        "categoria_svm, probabilidades_svm = classificar_novo_texto(novo_texto, vectorizer, best_svm_model)\n",
        "print(\"\\nSVM:\")\n",
        "print(\"Categoria prevista:\", categoria_svm)\n",
        "if probabilidades_svm:\n",
        "  print(\"Probabilidades:\", probabilidades_svm)\n"
      ],
      "metadata": {
        "id": "xlF2Nx_Ps7mK"
      },
      "execution_count": null,
      "outputs": []
    },
    {
      "cell_type": "markdown",
      "source": [
        "### Bloco explicativo: Etapa 5 — Classificação de um novo texto\n",
        "\n",
        "A etapa 5 representa o momento mais prático e aplicável de todo o pipeline de PNL construído neste curso: usar o modelo treinado para classificar texto real. Aqui, combinamos todo o conhecimento prévio (pré-processamento, vetorização, treinamento e avaliação) em uma função utilitária que recebe qualquer texto, o processa e retorna a categoria prevista (sentimento, tópico, etc.).\n",
        "\n",
        "Além disso, o código é muito flexível: ele tenta retornar a probabilidade de cada categoria usando a função predict_proba, que é muito útil para análises mais complexas, como:\n",
        "\n",
        "- tomar decisões baseadas em confiança do modelo,\n",
        "- comparar incertezas entre diferentes classificadores,\n",
        "- ou mesmo construir interfaces com barras de confiança.\n",
        "\n",
        "Essa etapa também serve como avaliação indireta da generalização do modelo, já que estamos testando em textos fora da base de treino. Caso as previsões estejam erradas ou inconsistentes, é um sinal de que o modelo precisa de mais dados, ajustes no pré-processamento ou até troca no algoritmo.\n",
        "\n",
        "Por fim, é uma excelente oportunidade para refletir sobre limitações e possíveis melhorias:\n",
        "\n",
        "- O modelo SVM, por exemplo, não retorna probabilidades por padrão — o que pode ser resolvido com probability=True no momento da criação.\n",
        "- A função preprocessar_texto() pode ser aprimorada com remoção de stopwords, lematização, ou uso de embeddings mais ricos."
      ],
      "metadata": {
        "id": "eFc0Ihn175f4"
      }
    }
  ]
}