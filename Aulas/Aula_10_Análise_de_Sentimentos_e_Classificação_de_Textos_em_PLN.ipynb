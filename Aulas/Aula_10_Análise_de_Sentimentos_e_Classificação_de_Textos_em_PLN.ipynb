{
  "nbformat": 4,
  "nbformat_minor": 0,
  "metadata": {
    "colab": {
      "provenance": []
    },
    "kernelspec": {
      "name": "python3",
      "display_name": "Python 3"
    },
    "language_info": {
      "name": "python"
    }
  },
  "cells": [
    {
      "cell_type": "markdown",
      "source": [
        "# Aula 10 - Análise de Sentimentos e Classificação de Texto\n",
        "\n",
        "* Identificar diversas aplicações práticas de Análise de Sentimentos em diferentes domínios.\n",
        "* Compreender o funcionamento básico do algoritmo Naive Bayes para classificação de textos e análise de sentimentos.\n",
        "* Compreender o funcionamento básico do algoritmo de Árvores de Decisão para classificação de textos.\n",
        "* Identificar diferentes abordagens para realizar análise de sentimentos."
      ],
      "metadata": {
        "id": "9H_KWesGkfc2"
      }
    },
    {
      "cell_type": "markdown",
      "source": [
        "## Exemplos do roteiro"
      ],
      "metadata": {
        "id": "_-qjmNHfkmgL"
      }
    },
    {
      "cell_type": "markdown",
      "source": [
        "### Exemplo 1 - Análise de sentimentos com a biblioteca NLTK"
      ],
      "metadata": {
        "id": "Zzu-i3QPkqG2"
      }
    },
    {
      "cell_type": "code",
      "source": [
        "# Importanto as bibliotecas\n",
        "\n",
        "# NLTK -> (Natural Language Toolkit) é uma biblioteca popular de PLN (Processamento de Linguagem Natural) em Python.\n",
        "# Ela fornece ferramentas para pré-processamento de texto, análise sintática, semântica e léxica, entre outras.\n",
        "import nltk\n",
        "\n",
        "# SentimentIntensityAnalyzer -> é uma ferramenta do NLTK baseada no léxico VADER (Valence Aware Dictionary and sEntiment Reasoner).\n",
        "# Ele é usado para analisar o sentimento de frases em linguagem natural, atribuindo escores de positividade, negatividade e neutralidade.\n",
        "from nltk.sentiment.vader import SentimentIntensityAnalyzer\n",
        "\n",
        "# Baixando os recursos necessários para executar o analisador de sentimentos\n",
        "\n",
        "# 'vader_lexicon' -> é um dicionário com palavras e expressões associadas a valores de sentimento.\n",
        "# É essencial para o funcionamento do SentimentIntensityAnalyzer, pois ele usa esse léxico para atribuir escores às palavras analisadas.\n",
        "nltk.download('vader_lexicon')\n",
        "\n",
        "# 'punkt' -> é um recurso utilizado para segmentação de texto em frases e palavras (tokenização).\n",
        "# Embora não seja usado diretamente no exemplo básico com VADER, é um dos requisitos comuns ao trabalhar com outros recursos de análise textual no NLTK.\n",
        "nltk.download('punkt')"
      ],
      "metadata": {
        "colab": {
          "base_uri": "https://localhost:8080/"
        },
        "id": "twM7QAnfkti3",
        "outputId": "2d616436-b185-45e8-a0e5-eeca9c9e5487"
      },
      "execution_count": 1,
      "outputs": [
        {
          "output_type": "stream",
          "name": "stderr",
          "text": [
            "[nltk_data] Downloading package vader_lexicon to /root/nltk_data...\n",
            "[nltk_data] Downloading package punkt to /root/nltk_data...\n",
            "[nltk_data]   Unzipping tokenizers/punkt.zip.\n"
          ]
        },
        {
          "output_type": "execute_result",
          "data": {
            "text/plain": [
              "True"
            ]
          },
          "metadata": {},
          "execution_count": 1
        }
      ]
    },
    {
      "cell_type": "code",
      "source": [
        "# Inicialização do analisador de sentimentos VADER\n",
        "\n",
        "# Instância do SentimentIntensityAnalyzer, que utiliza o léxico 'vader_lexicon' como base.\n",
        "# O analisador calcula a intensidade de sentimentos presentes em frases curtas.\n",
        "# Para cada texto avaliado, são retornados quatro escores:\n",
        "# - 'neg': intensidade negativa (0 a 1)\n",
        "# - 'neu': intensidade neutra (0 a 1)\n",
        "# - 'pos': intensidade positiva (0 a 1)\n",
        "# - 'compound': valor composto que resume o sentimento geral da frase (-1 = muito negativo, +1 = muito positivo)\n",
        "# O método é apropriado para textos curtos e informais, como avaliações e comentários.\n",
        "\n",
        "sid = SentimentIntensityAnalyzer()\n",
        "\n",
        "# Conjunto de textos para análise\n",
        "\n",
        "# Lista com frases que expressam sentimentos variados, simulando comentários reais.\n",
        "# Os exemplos abrangem polaridades positiva, negativa e neutra, possibilitando observar o comportamento do analisador.\n",
        "\n",
        "textos = [\n",
        "    \"Este filme é incrível! Eu adorei cada minuto\",               # sentimento positivo\n",
        "    \"Odiei este filme. Foi uma perda de tempo.\",                  # sentimento negativo\n",
        "    \"O filme foi ok, nada de especial\",                           # sentimento neutro\n",
        "    \"Estou muito feliz com o produto, funciona perfeitamente!\",   # sentimento positivo\n",
        "    \"Que serviço horrível! Nunca mais compro nessa loja.\"         # sentimento negativo\n",
        "]\n",
        "\n",
        "# As frases serão utilizadas para aplicar o analisador e verificar os escores gerados.\n"
      ],
      "metadata": {
        "id": "-d66CKNxkxVw"
      },
      "execution_count": 2,
      "outputs": []
    },
    {
      "cell_type": "code",
      "source": [
        "# Aplicação da análise de sentimentos em cada texto da lista\n",
        "\n",
        "# Percorre todos os textos previamente definidos\n",
        "for texto in textos:\n",
        "    # Exibe o conteúdo atual que será analisado\n",
        "    print(f\"Texto: {texto}\")\n",
        "\n",
        "    # Aplica o analisador VADER para calcular os escores de sentimento\n",
        "    ss = sid.polarity_scores(texto)\n",
        "\n",
        "    # Mostra os escores gerados (negativo, neutro, positivo e composto)\n",
        "    print(f\"Pontuação: {ss}\")\n",
        "\n",
        "    # Classificação do sentimento com base no valor 'compound':\n",
        "    # - Valores acima de 0.05 indicam sentimento positivo\n",
        "    # - Valores abaixo de -0.05 indicam sentimento negativo\n",
        "    # - Valores entre -0.05 e 0.05 indicam sentimento neutro\n",
        "    if ss['compound'] >= 0.05:\n",
        "        print(\"Sentimento: Positivo\")\n",
        "    elif ss['compound'] <= -0.05:\n",
        "        print(\"Sentimento: Negativo\")\n",
        "    else:\n",
        "        print(\"Sentimento: Neutro\")\n",
        "\n",
        "    # Separador visual entre as análises\n",
        "    print(\"\\n\")\n"
      ],
      "metadata": {
        "colab": {
          "base_uri": "https://localhost:8080/"
        },
        "id": "zI9qkRzkk30-",
        "outputId": "57d31042-19c7-4781-e145-397a8b72205f"
      },
      "execution_count": 3,
      "outputs": [
        {
          "output_type": "stream",
          "name": "stdout",
          "text": [
            "Texto: Este filme é incrível! Eu adorei cada minuto\n",
            "Pontuação: {'neg': 0.0, 'neu': 1.0, 'pos': 0.0, 'compound': 0.0}\n",
            "Sentimento: Neutro\n",
            "\n",
            "\n",
            "Texto: Odiei este filme. Foi uma perda de tempo.\n",
            "Pontuação: {'neg': 0.0, 'neu': 1.0, 'pos': 0.0, 'compound': 0.0}\n",
            "Sentimento: Neutro\n",
            "\n",
            "\n",
            "Texto: O filme foi ok, nada de especial\n",
            "Pontuação: {'neg': 0.0, 'neu': 0.694, 'pos': 0.306, 'compound': 0.296}\n",
            "Sentimento: Positivo\n",
            "\n",
            "\n",
            "Texto: Estou muito feliz com o produto, funciona perfeitamente!\n",
            "Pontuação: {'neg': 0.0, 'neu': 1.0, 'pos': 0.0, 'compound': 0.0}\n",
            "Sentimento: Neutro\n",
            "\n",
            "\n",
            "Texto: Que serviço horrível! Nunca mais compro nessa loja.\n",
            "Pontuação: {'neg': 0.0, 'neu': 1.0, 'pos': 0.0, 'compound': 0.0}\n",
            "Sentimento: Neutro\n",
            "\n",
            "\n"
          ]
        }
      ]
    },
    {
      "cell_type": "markdown",
      "source": [
        "### Exemplo 2 - Análise de sentimentos de Avaliação de Filmes com Naives Bayes"
      ],
      "metadata": {
        "id": "m7oCnxZ-k9Ut"
      }
    },
    {
      "cell_type": "code",
      "source": [
        "# Primeira etapa: definição de funções auxiliares para cálculo de frequências e probabilidades\n",
        "\n",
        "# NumPy é importado por ser uma biblioteca fundamental para operações matemáticas e estatísticas\n",
        "import numpy as np\n",
        "\n",
        "# Função para contar a frequência das palavras em avaliações de um determinado sentimento\n",
        "def contar_palavras(avaliacoes, sentimento):\n",
        "    # Retorna um dicionário com a frequência de cada palavra que aparece nas avaliações associadas ao sentimento especificado.\n",
        "\n",
        "    contagem = {}  # Dicionário para armazenar a contagem das palavras\n",
        "\n",
        "    # Itera sobre as avaliações e seus respectivos rótulos (sentimentos)\n",
        "    for avaliacao, sent in avaliacoes:\n",
        "        if sent == sentimento:\n",
        "            # Converte o texto para minúsculas e divide em palavras\n",
        "            for palavra in avaliacao.lower().split():\n",
        "                # Incrementa o contador da palavra, com verificação de existência\n",
        "                contagem[palavra] = contagem.get(palavra, 0) + 1\n",
        "\n",
        "    return contagem\n",
        "\n",
        "# Função para calcular a probabilidade de um sentimento específico\n",
        "def calcular_probabilidade_sentimento(avaliacoes, sentimento):\n",
        "    # Retorna a probabilidade de uma avaliação pertencer ao sentimento informado.\n",
        "    # Calculado como: (número de avaliações com o sentimento) / (total de avaliações)\n",
        "\n",
        "    total_avaliacoes = len(avaliacoes)  # Número total de avaliações\n",
        "    contagem_sentimento = sum(1 for _, sent in avaliacoes if sent == sentimento)  # Quantas têm o sentimento desejado\n",
        "    return contagem_sentimento / total_avaliacoes\n",
        "\n",
        "# Função para calcular a probabilidade de uma palavra aparecer dado um sentimento (com suavização)\n",
        "def calcular_probabilidade_palavra_dado_sentimento(palavra, contagem_palavras, total_palavras_sentimento, total_palavras_vocabulario, alpha=1):\n",
        "\n",
        "    # Aplica a fórmula de probabilidade com suavização de Laplace:\n",
        "    # P(palavra|sentimento) = (contagem_palavra + alpha) / (total_palavras_sentimento + alpha * total_vocabulario)\n",
        "\n",
        "    # - contagem_palavras: dicionário com as frequências das palavras do sentimento\n",
        "    # - total_palavras_sentimento: soma de todas as ocorrências de palavras no sentimento\n",
        "    # - total_palavras_vocabulario: número total de palavras distintas no vocabulário\n",
        "    # - alpha: valor de suavização (Laplace), evita probabilidade zero para palavras ausentes\n",
        "\n",
        "    contagem_palavra = contagem_palavras.get(palavra, 0)  # Retorna a frequência da palavra, ou zero se não houver\n",
        "    return (contagem_palavra + alpha) / (total_palavras_sentimento + alpha * total_palavras_vocabulario)\n"
      ],
      "metadata": {
        "id": "KyRDZTA8k_iS"
      },
      "execution_count": 4,
      "outputs": []
    },
    {
      "cell_type": "code",
      "source": [
        "# Segunda etapa: função principal para classificar o sentimento de uma nova avaliação\n",
        "\n",
        "def classificar_avaliacao(avaliacao, avaliacoes):\n",
        "    # Esta função implementa o algoritmo Naive Bayes para classificar o sentimento de uma nova avaliação textual.\n",
        "    # Ela usa uma base de dados (avaliacoes) contendo textos rotulados como \"Positivo\" ou \"Negativo\".\n",
        "    # A saída é o sentimento previsto para o novo texto fornecido.\n",
        "\n",
        "    # Lista de possíveis sentimentos utilizados na base de dados\n",
        "    sentimentos = [\"Positivo\", \"Negativo\"]\n",
        "\n",
        "    # Dicionário que armazenará a probabilidade final de a nova avaliação pertencer a cada sentimento\n",
        "    probabilidades_sentimento = {}\n",
        "\n",
        "    # Calcula a probabilidade a priori P(sentimento) para cada classe\n",
        "    # Fórmula: quantidade de avaliações com esse sentimento / total de avaliações\n",
        "    probabilidades_sentimento[\"Positivo\"] = calcular_probabilidade_sentimento(avaliacoes, \"Positivo\")\n",
        "    probabilidades_sentimento[\"Negativo\"] = calcular_probabilidade_sentimento(avaliacoes, \"Negativo\")\n",
        "\n",
        "    # Conta quantas vezes cada palavra apareceu em avaliações positivas\n",
        "    contagem_palavras_positivo = contar_palavras(avaliacoes, \"Positivo\")\n",
        "\n",
        "    # Conta quantas vezes cada palavra apareceu em avaliações negativas\n",
        "    contagem_palavras_negativo = contar_palavras(avaliacoes, \"Negativo\")\n",
        "\n",
        "    # Soma total de palavras em todas as avaliações positivas\n",
        "    total_palavras_positivo = sum(contagem_palavras_positivo.values())\n",
        "\n",
        "    # Soma total de palavras em todas as avaliações negativas\n",
        "    total_palavras_negativo = sum(contagem_palavras_negativo.values())\n",
        "\n",
        "    # Cria um vocabulário com todas as palavras distintas da base de avaliações\n",
        "    # Este vocabulário será usado para aplicar a suavização de Laplace nas probabilidades\n",
        "    vocabulario = set()\n",
        "    for avaliacao, _ in avaliacoes:\n",
        "        for palavra in avaliacao.lower().split():\n",
        "            vocabulario.add(palavra)\n",
        "    total_palavras_vocabulario = len(vocabulario)\n",
        "\n",
        "    # Para cada sentimento, calcular a probabilidade da nova avaliação ser daquele sentimento\n",
        "    for sentimento in sentimentos:\n",
        "        # Começa com a probabilidade a priori P(sentimento)\n",
        "        probabilidade_total = probabilidades_sentimento[sentimento]\n",
        "\n",
        "        # Seleciona a contagem de palavras e o total de palavras correspondente ao sentimento atual\n",
        "        contagem_palavras_sentimento = (\n",
        "            contagem_palavras_positivo if sentimento == \"Positivo\" else contagem_palavras_negativo\n",
        "        )\n",
        "        total_palavras_sentimento = (\n",
        "            total_palavras_positivo if sentimento == \"Positivo\" else total_palavras_negativo\n",
        "        )\n",
        "\n",
        "        # Para cada palavra presente na nova avaliação...\n",
        "        for palavra in avaliacao.lower().split():\n",
        "            # Calcula a probabilidade condicional P(palavra|sentimento) com suavização de Laplace\n",
        "            probabilidade_palavra = calcular_probabilidade_palavra_dado_sentimento(\n",
        "                palavra,\n",
        "                contagem_palavras_sentimento,\n",
        "                total_palavras_sentimento,\n",
        "                total_palavras_vocabulario\n",
        "            )\n",
        "            # Multiplica a probabilidade atual pela probabilidade condicional da palavra (Naive Bayes)\n",
        "            probabilidade_total *= probabilidade_palavra\n",
        "\n",
        "        # Atualiza o valor final da probabilidade para aquele sentimento\n",
        "        probabilidades_sentimento[sentimento] = probabilidade_total\n",
        "\n",
        "    # Compara os valores das probabilidades finais e retorna o sentimento com maior valor\n",
        "    melhor_sentimento = max(probabilidades_sentimento, key=probabilidades_sentimento.get)\n",
        "    return melhor_sentimento\n"
      ],
      "metadata": {
        "id": "sSXHO_DRlEOc"
      },
      "execution_count": 5,
      "outputs": []
    },
    {
      "cell_type": "markdown",
      "source": [
        "**Comentário**\n",
        "\n",
        "Esta função é o coração do modelo Naive Bayes aplicado à análise de sentimentos. Nela, a combinação de **probabilidades a priori** e **probabilidades condicionais suavizadas** (com Laplace) evidencia a aplicação do Teorema de Bayes para problemas reais de PLN.\n",
        "\n",
        "**Avaliação**\n",
        "\n",
        "A abordagem, embora simplificada, é didaticamente eficaz, pois mostra como a contagem bruta de palavras pode alimentar um modelo preditivo probabilístico. Essa função também serve como ponte conceitual entre teoria (Bayes) e prática (classificação de texto), sendo um ótimo exemplo para fixar a ideia de que mesmo modelos \"ingênuos\" podem gerar bons resultados em problemas complexos como interpretação de linguagem natural."
      ],
      "metadata": {
        "id": "iwuX0TWn4Eqs"
      }
    },
    {
      "cell_type": "code",
      "source": [
        "# Terceira etapa – definição do conjunto de dados de treinamento\n",
        "\n",
        "# Lista de tuplas contendo pares (texto, sentimento)\n",
        "# Este conjunto simula uma base de dados rotulada manualmente\n",
        "# Os textos representam avaliações de filmes\n",
        "# Os sentimentos indicam a classificação atribuída: \"Positivo\" ou \"Negativo\"\n",
        "\n",
        "avaliacoes = [\n",
        "    (\"Filme incrível! Adorei a atuação.\", \"Positivo\"),       # avaliação positiva\n",
        "    (\"Roteiro fraco, não recomendo.\", \"Negativo\"),           # avaliação negativa\n",
        "    (\"Atuação boa, mas filme longo.\", \"Positivo\"),           # avaliação positiva com ressalva\n",
        "    (\"Péssimo! Perdi meu tempo.\", \"Negativo\"),               # avaliação claramente negativa\n",
        "]\n"
      ],
      "metadata": {
        "id": "QVzjariUlIxo"
      },
      "execution_count": 6,
      "outputs": []
    },
    {
      "cell_type": "code",
      "source": [
        "# Quarta etapa – fornecimento de uma nova frase para classificação\n",
        "\n",
        "# Solicita ao usuário uma nova avaliação textual como entrada\n",
        "# A frase digitada simula uma opinião real que será analisada\n",
        "nova_avaliacao = input(\"O que você achou do filme 101 Dalmatas? \")\n",
        "\n",
        "# Chama a função de classificação utilizando o modelo treinado anteriormente\n",
        "# A função retorna o sentimento mais provável associado à nova frase\n",
        "sentimento = classificar_avaliacao(nova_avaliacao, avaliacoes)\n",
        "\n",
        "# Exibe o resultado da classificação ao usuário\n",
        "print(f\"A avaliação '{nova_avaliacao}' foi classificada como: {sentimento}\")\n"
      ],
      "metadata": {
        "colab": {
          "base_uri": "https://localhost:8080/"
        },
        "id": "TQj9i14_lQvN",
        "outputId": "2baf0f0a-f457-4d0b-d85e-e7bb8c38eeb7"
      },
      "execution_count": 9,
      "outputs": [
        {
          "output_type": "stream",
          "name": "stdout",
          "text": [
            "O que você achou do filme 101 Dalmatas? Maravilhoso\n",
            "A avaliação 'Maravilhoso' foi classificada como: Positivo\n"
          ]
        }
      ]
    },
    {
      "cell_type": "code",
      "source": [
        "# Quinta etapa – ampliação da base de dados com novas avaliações\n",
        "\n",
        "# Lista expandida contendo múltiplas avaliações de filmes, rotuladas como \"Positivo\" ou \"Negativo\"\n",
        "# Esse conjunto inclui frases mais longas, complexas e com vocabulário mais variado\n",
        "# A diversidade de exemplos aumenta a robustez do modelo e melhora a capacidade de generalização\n",
        "\n",
        "avaliacoes = [\n",
        "    (\"Filme incrível! Adorei a atuação, roteiro e direção.\", \"Positivo\"),\n",
        "    (\"Roteiro fraco, atuação ruim, não recomendo. Perda de tempo.\", \"Negativo\"),\n",
        "    (\"Atuação boa, mas filme um pouco longo e arrastado.\", \"Positivo\"),\n",
        "    (\"Péssimo! Perdi meu tempo, dinheiro e paciência. Horrível.\", \"Negativo\"),\n",
        "    (\"Amei! Elenco maravilhoso, fotografia impecável. Recomendo muito!\", \"Positivo\"),\n",
        "    (\"Chato, previsível e sem graça. Saí no meio do filme.\", \"Negativo\"),\n",
        "    (\"Uma obra-prima! Roteiro inteligente, atuações memoráveis.\", \"Positivo\"),\n",
        "    (\"Cansativo, atuações forçadas, final decepcionante.\", \"Negativo\"),\n",
        "    (\"Divertido e emocionante! Ótimo para assistir com a família.\", \"Positivo\"),\n",
        "    (\"Clichê, sem originalidade, diálogos fracos. Não vale a pena.\", \"Negativo\"),\n",
        "    (\"Surpreendente e envolvente! Me prendeu do início ao fim.\", \"Positivo\"),\n",
        "    (\"Confuso, mal dirigido, edição amadora. Um desastre.\", \"Negativo\"),\n",
        "    (\"Atuação excelente, história cativante, trilha sonora perfeita.\", \"Positivo\"),\n",
        "    (\"Atuações medianas, história arrastada, trilha sonora irritante.\", \"Negativo\"),\n",
        "    (\"Roteiro bem construído, diálogos afiados, direção impecável.\", \"Positivo\"),\n",
        "    (\"Roteiro fraco, diálogos bobos, direção perdida.\", \"Negativo\"),\n",
        "    (\"Uma experiência cinematográfica única! Recomendo a todos os amantes do cinema.\", \"Positivo\"),\n",
        "    (\"Um filme esquecível, sem emoção e sem impacto.\", \"Negativo\"),\n",
        "    (\"Comovente e inspirador! Me fez refletir sobre a vida.\", \"Positivo\"),\n",
        "    (\"Decepcionante e frustrante! Não recomendo nem para passar o tempo.\", \"Negativo\"),\n",
        "    (\"Ótimo, gostei muito\", \"Positivo\")\n",
        "]\n"
      ],
      "metadata": {
        "id": "wnp48OBgmMRG"
      },
      "execution_count": 8,
      "outputs": []
    },
    {
      "cell_type": "markdown",
      "source": [
        "## Desafios do roteiro"
      ],
      "metadata": {
        "id": "F3KHtBdGmVYH"
      }
    },
    {
      "cell_type": "markdown",
      "source": [
        "Os desafios aqui foram na escrita do script e na execução da análise de sentimentos usando VADER e Naive Bayes:\n",
        "\n",
        "1. Pré-processamento de Texto Simplificado\n",
        "O script não aplica técnicas de pré-processamento mais robustas, como remoção de pontuação, stemming ou stopword. Isso afeta a consistência da análise, especialmente em modelos como o Naive Bayes, que são sensíveis a mudanças de vocabulário.\n",
        "\n",
        "2. Dependência de Amostras Curtas\n",
        "A análise usando o Sentiment Strength Analyzer (VADER) funciona bem para frases curtas, mas sua precisão pode diminuir ao lidar com textos longos ou ambíguos. Isso limita o script a trabalhar com amostras simples.\n",
        "\n",
        "3. Banco de Dados Limitado\n",
        "O pequeno número de exemplos no modelo inicial afeta diretamente a capacidade do classificador Naive Bayes de generalizar para novos dados. Modelos baseados em probabilidade dependem da representação no treinamento.\n",
        "\n",
        "4. Vocabulário muito específico\n",
        "Como a classificação estatística depende do vocabulário presente nas frases de treinamento, o roteiro precisa ser cuidadoso para garantir que o vocabulário relevante esteja presente em ambos os conjuntos de dados (conjuntos de treinamento e teste).\n",
        "\n",
        "5. Interpretação de pontuações compostas\n",
        "Embora as pontuações compostas sejam úteis para decisões binárias (positivas, neutras ou negativas), sua sensibilidade a mudanças sutis pode ser confusa quando as frases contêm emoções mistas."
      ],
      "metadata": {
        "id": "ATzu0dn3mV9S"
      }
    }
  ]
}