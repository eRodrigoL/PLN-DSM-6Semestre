{
  "nbformat": 4,
  "nbformat_minor": 0,
  "metadata": {
    "colab": {
      "provenance": []
    },
    "kernelspec": {
      "name": "python3",
      "display_name": "Python 3"
    },
    "language_info": {
      "name": "python"
    }
  },
  "cells": [
    {
      "cell_type": "markdown",
      "source": [
        "# Aula 02 - Python e bibliotécas para PLN"
      ],
      "metadata": {
        "id": "7O8KDMjspwKv"
      }
    },
    {
      "cell_type": "markdown",
      "source": [
        "Conceitos básicos da linguagem Python por meio de exemplos práticos, aprendendo a lidar com manipulação de textos e implementação de soluções de PLN."
      ],
      "metadata": {
        "id": "MPYvu8KS1NE3"
      }
    },
    {
      "cell_type": "markdown",
      "source": [
        "## Exemplo 01 - Sintaxe básica"
      ],
      "metadata": {
        "id": "FiKK1bnmqO7P"
      }
    },
    {
      "cell_type": "markdown",
      "source": [],
      "metadata": {
        "id": "_ACl_icZHPMa"
      }
    },
    {
      "cell_type": "markdown",
      "source": [
        "*  Indentação obrigatória como parte da sintaxe.\n",
        "\n",
        "*  Usar # para comentários para comentários de linha única"
      ],
      "metadata": {
        "id": "SRArsQEC09eo"
      }
    },
    {
      "cell_type": "code",
      "source": [
        "# Isso é um comentário"
      ],
      "metadata": {
        "id": "5RG4_M8lGPj1"
      },
      "execution_count": null,
      "outputs": []
    },
    {
      "cell_type": "markdown",
      "source": [
        "* ( NÃO FUNCIONA NO GOOGLE COLAB ) Usar ''' para iniciar e depois ''' terminar um comentário de multiplas linhas."
      ],
      "metadata": {
        "id": "cB3V5zG0GUZp"
      }
    },
    {
      "cell_type": "code",
      "source": [
        "'''e a mais complexa é usar 3 aspas (simples o dupla)\n",
        "para comentar várias linhas\n",
        "linhas\n",
        "linhas\n",
        "linhas'''"
      ],
      "metadata": {
        "colab": {
          "base_uri": "https://localhost:8080/",
          "height": 35
        },
        "id": "dWdXGD9iHYt-",
        "outputId": "70412241-7b4f-4ec4-bd24-49dbce7ef09f"
      },
      "execution_count": null,
      "outputs": [
        {
          "output_type": "execute_result",
          "data": {
            "text/plain": [
              "'e a mais complexa é usar 3 aspas (simples o dupla)\\npara comentar várias linhas\\nlinhas\\nlinhas\\nlinhas'"
            ],
            "application/vnd.google.colaboratory.intrinsic+json": {
              "type": "string"
            }
          },
          "metadata": {},
          "execution_count": 2
        }
      ]
    },
    {
      "cell_type": "markdown",
      "source": [
        "* É indiferente o uso de aspas simples ou de aspas dupla"
      ],
      "metadata": {
        "id": "jAyP1aHOHi4q"
      }
    },
    {
      "cell_type": "code",
      "execution_count": null,
      "metadata": {
        "colab": {
          "base_uri": "https://localhost:8080/"
        },
        "id": "-OoodwVbovSC",
        "outputId": "c7e3d982-4987-490b-f169-9faec892c8a5"
      },
      "outputs": [
        {
          "output_type": "stream",
          "name": "stdout",
          "text": [
            "essa parte roda. \n",
            "essa também.\n"
          ]
        }
      ],
      "source": [
        "# Exemplo com aspas dupla.\n",
        "print(\"essa parte roda. \")\n",
        "\n",
        "# Exemplo com aspas simples\n",
        "print('essa também.')"
      ]
    },
    {
      "cell_type": "markdown",
      "source": [
        "## Exemplo 02 - Atribuição e Variáveis\n"
      ],
      "metadata": {
        "id": "LKa53unvrvrB"
      }
    },
    {
      "cell_type": "markdown",
      "source": [
        "*  Tipos primitivos mais comuns: int, float, str, bool.\n",
        "*  Conversão entre tipos:"
      ],
      "metadata": {
        "id": "D-1SMH__1gBX"
      }
    },
    {
      "cell_type": "code",
      "source": [
        "# tudo é tratado como objetos\n",
        "carros = 200\n",
        "\n",
        "espacoNoCarro = 4.0\n",
        "motoristas = 30\n",
        "passageiros = 90\n",
        "carrosSemMotoristas = carros - motoristas\n",
        "carrosComMotoristas = motoristas\n",
        "capacidadeDePassageiros = carrosComMotoristas * espacoNoCarro\n",
        "mediaPassageirosPorCarro = passageiros / carrosComMotoristas\n",
        "\n",
        "print(\"Existem\",carros,\"carros disponíveis.\")\n",
        "print(f\"Existem apenas {motoristas} motoristas disponíveis\")\n",
        "print(\"Nós podemos transportar {} pessoas hoje\".format(capacidadeDePassageiros))\n",
        "print(100/5)"
      ],
      "metadata": {
        "colab": {
          "base_uri": "https://localhost:8080/"
        },
        "id": "o6iKOnaNs8NI",
        "outputId": "875efeb0-0694-4a9c-8d7c-a11215c02e1d"
      },
      "execution_count": null,
      "outputs": [
        {
          "output_type": "stream",
          "name": "stdout",
          "text": [
            "Existem 200 carros disponíveis.\n",
            "Existem apenas 30 motoristas disponíveis\n",
            "Nós podemos transportar 120.0 pessoas hoje\n",
            "20.0\n"
          ]
        }
      ]
    },
    {
      "cell_type": "markdown",
      "source": [
        "## Exemplo 03 - Entradas e Saidas\n"
      ],
      "metadata": {
        "id": "MXR1mplewgWx"
      }
    },
    {
      "cell_type": "markdown",
      "source": [
        "* Função input().\n",
        "* Exibição com print()."
      ],
      "metadata": {
        "id": "JqQEUs7Y1nze"
      }
    },
    {
      "cell_type": "code",
      "source": [
        "print(\"Quantos anos Fulano tem?\")\n",
        "idade = input()\n",
        "print(f\"O Fulano tem {idade} anos.\")\n",
        "\n",
        "altura = input(\"Qual a altura de Beltrano:\")\n",
        "\n",
        "print(f\"A altura do Beltrano é {altura}\")\n",
        "print(\"O tipo de dado da idade é \", type(idade))\n",
        "print(\"O tipo de dado da altura é \", type(altura))\n",
        "print(idade + altura)\n",
        "\n",
        "valorIdade = int(idade)\n",
        "print(\"O tipo de dado da valorIdade é \", type(valorIdade))\n",
        "valorAltura = int(altura)\n",
        "print(\"O tipo de dado da valorAltura é \", type (valorAltura))\n",
        "print(valorIdade+valorAltura)\n",
        "\n",
        "peso = int(input(\"Qual é o peso do Siclano: \"))\n",
        "print(\"\\nO tipo de dado do peso é \", type(peso))"
      ],
      "metadata": {
        "colab": {
          "base_uri": "https://localhost:8080/"
        },
        "id": "zC3il9jkwTRe",
        "outputId": "fc350c76-9cb7-4265-af4a-6022fafb5cbb"
      },
      "execution_count": null,
      "outputs": [
        {
          "output_type": "stream",
          "name": "stdout",
          "text": [
            "Quantos anos Fulano tem?\n",
            "55\n",
            "O Fulano tem 55 anos.\n",
            "Qual a altura de Beltrano:210\n",
            "A altura do Beltrano é 210\n",
            "O tipo de dado da idade é  <class 'str'>\n",
            "O tipo de dado da altura é  <class 'str'>\n",
            "55210\n",
            "O tipo de dado da valorIdade é  <class 'int'>\n",
            "O tipo de dado da valorAltura é  <class 'int'>\n",
            "265\n",
            "Qual é o peso do Siclano: 80\n",
            "\n",
            "O tipo de dado do peso é  <class 'int'>\n"
          ]
        }
      ]
    },
    {
      "cell_type": "markdown",
      "source": [
        "## Exemplo 04 - Operadores"
      ],
      "metadata": {
        "id": "3utdmsVGzJlW"
      }
    },
    {
      "cell_type": "markdown",
      "source": [
        "* Operadores aritméticos: +, -, *, /, //, %, **.\n",
        "* Operadores relacionais: ==, !=, >, <, >=, <=.\n",
        "* Operadores lógicos: and, or, not."
      ],
      "metadata": {
        "id": "5y0WB4_J10C2"
      }
    },
    {
      "cell_type": "code",
      "source": [
        "print(\"Contando aves do meu galinheiro.\")\n",
        "print(\"Franguinhos\", 25 + 30 / 6)\n",
        "print(\"Galos\", 100.0 - 25 * 3 % 4)\n",
        "\n",
        "print(\"Agora vou contar os ovos.\")\n",
        "print(3 + 2 + 1 - 5 + 4 % 2 - 1 / 4 + 6)\n",
        "\n",
        "print(\"Este resultado é verdadeiro: 3 + 2 < 5 - 7?\")\n",
        "print(3 + 2 < 5 - 7)\n",
        "print(\"Quanto é 3 + 2?\", 3 + 2)\n",
        "print(\"Quanto é 5 - 7?\", 5 - 7)\n",
        "print(\"O Que é maior?\", 5 > - 2)"
      ],
      "metadata": {
        "colab": {
          "base_uri": "https://localhost:8080/"
        },
        "id": "ifz3L1jszNpd",
        "outputId": "87a08ef9-606e-41e8-e222-d285292e1e0a"
      },
      "execution_count": null,
      "outputs": [
        {
          "output_type": "stream",
          "name": "stdout",
          "text": [
            "Contando aves do meu galinheiro.\n",
            "Franguinhos 30.0\n",
            "Galos 97.0\n",
            "Agora vou contar os ovos.\n",
            "6.75\n",
            "Este resultado é verdadeiro: 3 + 2 < 5 - 7?\n",
            "False\n",
            "Quanto é 3 + 2? 5\n",
            "Quanto é 5 - 7? -2\n",
            "O Que é maior? True\n"
          ]
        }
      ]
    },
    {
      "cell_type": "markdown",
      "source": [
        "## Exemplo 05 - Estruturas condicionais"
      ],
      "metadata": {
        "id": "qDV7imMS0885"
      }
    },
    {
      "cell_type": "markdown",
      "source": [
        "* if ( condição ):\n",
        "* elif ( condição ):\n",
        "* else:"
      ],
      "metadata": {
        "id": "vVSnhp1O11ue"
      }
    },
    {
      "cell_type": "code",
      "source": [
        "pessoas = 30\n",
        "carros = 40\n",
        "caminhoes = 15\n",
        "motos = 100\n",
        "\n",
        "if (carros > pessoas):\n",
        "  print(\"Nos podemos pegar um carro.\")\n",
        "\n",
        "if (carros < pessoas):\n",
        "  print(\"linha da condição 2 verdadeira 1\")\n",
        "  print(\"linha da condição 2 verdadeira 2\")\n",
        "else:\n",
        "  print(\"linha da condição 2 falsa 1\")\n",
        "\n",
        "if(carros < pessoas):\n",
        "  print(\"linha da condição 1\")\n",
        "elif(carros < caminhoes):\n",
        "  print(\"linha da condição 2\")\n",
        "elif(caminhoes < motos):\n",
        "  print(\"linha da condição 3\")\n",
        "else:\n",
        "  print(\"linha da condição 4\")\n",
        "\n",
        "print(\"Instrução fora do condicional.\")"
      ],
      "metadata": {
        "colab": {
          "base_uri": "https://localhost:8080/"
        },
        "id": "tNgFew8b1K-V",
        "outputId": "341afe04-7aad-4e01-ef41-0453a09353e1"
      },
      "execution_count": null,
      "outputs": [
        {
          "output_type": "stream",
          "name": "stdout",
          "text": [
            "Nos podemos pegar um carro.\n",
            "linha da condição 2 falsa 1\n",
            "linha da condição 3\n",
            "Instrução fora do condicional.\n"
          ]
        }
      ]
    },
    {
      "cell_type": "markdown",
      "source": [
        "## Exemplo 06 - Laços de repetição"
      ],
      "metadata": {
        "id": "HplJTRiHzzEN"
      }
    },
    {
      "cell_type": "markdown",
      "source": [
        "* for [i] in [xxxx]:\n",
        "* while (condição):"
      ],
      "metadata": {
        "id": "MbnMK2zh1_GH"
      }
    },
    {
      "cell_type": "code",
      "source": [
        "numero = []\n",
        "#vaiável simples - armazena apenas um valor\n",
        "#variáveis composta - armazena vários valores\n",
        "  # lista - mutáveis: [a,b,c,45,[ad]]\n",
        "  # tupla - imutáveis: (a,b,c,45,asd,(asdcfsd))\n",
        "  # conjunto - mutável mas sem repetição {valor1,valor2,valor3,...}\n",
        "\n",
        "i = 0\n",
        "while(i<6):\n",
        "  print(f\"Estou indo de 0 até {i}\")\n",
        "  numero.append(i)\n",
        "  i = i + 1\n",
        "  print(f\"o valor da lista é {numero}\")\n",
        "\n",
        "\n",
        "print(f\"\\n\\n Vamos experimentar o FOR com strings.\")\n",
        "for i in range(0,6):\n",
        "  print(f\"Estou indo de o até {i}\")\n",
        "  numero.append(i)\n",
        "  print(f\"o valor da lista é {numero}\")\n",
        "\n",
        "\n",
        "print(f\"\\n\\nExemplo For com Strings.\")\n",
        "texto = \"Aula de sexta-feira\"\n",
        "\n",
        "for i in texto:\n",
        "  print(f\"O contador esta com a letra: {i}\")"
      ],
      "metadata": {
        "id": "odqlZ1CX-uwG",
        "colab": {
          "base_uri": "https://localhost:8080/"
        },
        "outputId": "5f009c4f-ef13-4433-8efd-7c39ead5ebff"
      },
      "execution_count": null,
      "outputs": [
        {
          "output_type": "stream",
          "name": "stdout",
          "text": [
            "Estou indo de 0 até 0\n",
            "o valor da lista é [0]\n",
            "Estou indo de 0 até 1\n",
            "o valor da lista é [0, 1]\n",
            "Estou indo de 0 até 2\n",
            "o valor da lista é [0, 1, 2]\n",
            "Estou indo de 0 até 3\n",
            "o valor da lista é [0, 1, 2, 3]\n",
            "Estou indo de 0 até 4\n",
            "o valor da lista é [0, 1, 2, 3, 4]\n",
            "Estou indo de 0 até 5\n",
            "o valor da lista é [0, 1, 2, 3, 4, 5]\n",
            "\n",
            "\n",
            " Vamos experimentar o FOR com strings.\n",
            "Estou indo de o até 0\n",
            "o valor da lista é [0, 1, 2, 3, 4, 5, 0]\n",
            "Estou indo de o até 1\n",
            "o valor da lista é [0, 1, 2, 3, 4, 5, 0, 1]\n",
            "Estou indo de o até 2\n",
            "o valor da lista é [0, 1, 2, 3, 4, 5, 0, 1, 2]\n",
            "Estou indo de o até 3\n",
            "o valor da lista é [0, 1, 2, 3, 4, 5, 0, 1, 2, 3]\n",
            "Estou indo de o até 4\n",
            "o valor da lista é [0, 1, 2, 3, 4, 5, 0, 1, 2, 3, 4]\n",
            "Estou indo de o até 5\n",
            "o valor da lista é [0, 1, 2, 3, 4, 5, 0, 1, 2, 3, 4, 5]\n",
            "\n",
            "\n",
            "Exemplo For com Strings.\n",
            "O contador esta com a letra: A\n",
            "O contador esta com a letra: u\n",
            "O contador esta com a letra: l\n",
            "O contador esta com a letra: a\n",
            "O contador esta com a letra:  \n",
            "O contador esta com a letra: d\n",
            "O contador esta com a letra: e\n",
            "O contador esta com a letra:  \n",
            "O contador esta com a letra: s\n",
            "O contador esta com a letra: e\n",
            "O contador esta com a letra: x\n",
            "O contador esta com a letra: t\n",
            "O contador esta com a letra: a\n",
            "O contador esta com a letra: -\n",
            "O contador esta com a letra: f\n",
            "O contador esta com a letra: e\n",
            "O contador esta com a letra: i\n",
            "O contador esta com a letra: r\n",
            "O contador esta com a letra: a\n"
          ]
        }
      ]
    },
    {
      "cell_type": "markdown",
      "source": [
        "# Exercícios"
      ],
      "metadata": {
        "id": "wtATNMesM6Pw"
      }
    },
    {
      "cell_type": "markdown",
      "source": [
        "* Exercício 1: Elaborar um programa que calcule e apresente o valor do volume de uma caixa retangular, utilizando a fórmula VOLUME = COMPRIMENTO * LARGURA * ALTURA"
      ],
      "metadata": {
        "id": "hhU-ZGvlNAni"
      }
    },
    {
      "cell_type": "code",
      "source": [
        "print(\"Calcule o volume de uma caixa cubica!\\n\")\n",
        "print(\"(informe todas as medidas em centímetros\\n\\n)\")\n",
        "COMPRIMENTO = float(input(\"Informe o comprimento da caixa: \"))\n",
        "LARGURA = float(input(\"Informe a largura da caixa: \"))\n",
        "ALTURA = float(input(\"Informe a altura da caixa: \"))\n",
        "\n",
        "VOLUME = COMPRIMENTO * LARGURA * ALTURA\n",
        "\n",
        "print(f\"Tendo a caixa {COMPRIMENTO} cm de comprimento, {LARGURA} cm de largura e {ALTURA} cm de altura, seu volume é  {VOLUME} cm³.\" )"
      ],
      "metadata": {
        "colab": {
          "base_uri": "https://localhost:8080/"
        },
        "id": "O0DyBYRhNKvM",
        "outputId": "7cb69210-fbdc-479a-84b6-9b669fda3ca7"
      },
      "execution_count": 2,
      "outputs": [
        {
          "output_type": "stream",
          "name": "stdout",
          "text": [
            "Calcule o volume de uma caixa cubica!\n",
            "\n",
            "(informe todas as medidas em centímetros\n",
            "\n",
            ")\n",
            "Informe o comprimento da caixa: 20\n",
            "Informe a largura da caixa: 20\n",
            "Informe a altura da caixa: 20\n",
            "Tendo a caixa 20.0 cm de comprimento, 20.0 cm de largura e 20.0 cm de altura, seu volume é  8000.0 cm³.\n"
          ]
        }
      ]
    },
    {
      "cell_type": "markdown",
      "source": [
        "* Exercício 2: Contar o número de palavras num texto"
      ],
      "metadata": {
        "id": "iukxEBzcNk32"
      }
    },
    {
      "cell_type": "code",
      "source": [
        "texto = input(\"Digite um texto: \") # armazena o texto digitado na váriável \"texto\"\n",
        "print(texto) # Exibe o texto digitado\n",
        "\n",
        "print(f\"O texto possui {len(texto)} caracteres\") # len() é o contador. Aqui conta o elementos (quantida de caracteres) da variável \"texto\"\n",
        "\n",
        "palavras = texto.split() # .split converte a váriavel \"texto\" um uma lista na qual cada palavra é um elemento\n",
        "print(palavras) # Exibe a lista completa\n",
        "\n",
        "print(f\"O texto possui {len(palavras)} palavras.\")"
      ],
      "metadata": {
        "colab": {
          "base_uri": "https://localhost:8080/"
        },
        "id": "ocEu7vB0NvCw",
        "outputId": "7f5d91b6-ef7d-4e3c-fbd2-ea04b7362a32"
      },
      "execution_count": 4,
      "outputs": [
        {
          "output_type": "stream",
          "name": "stdout",
          "text": [
            "Digite um texto: O céu fica mais lindo nos dias de arco-íris\n",
            "O céu fica mais lindo nos dias de arco-íris\n",
            "O texto possui 43 caracteres\n",
            "['O', 'céu', 'fica', 'mais', 'lindo', 'nos', 'dias', 'de', 'arco-íris']\n",
            "O texto possui 9 palavras.\n"
          ]
        }
      ]
    },
    {
      "cell_type": "markdown",
      "source": [
        "* Exercício 3: Buscar e substituir palavras em um texto"
      ],
      "metadata": {
        "id": "fblvhLapNx8W"
      }
    },
    {
      "cell_type": "code",
      "source": [
        "# Solicita ao usuário que digite um texto e armazena na variável \"texto\"\n",
        "texto = input(\"Digite um texto: \")\n",
        "\n",
        "# Solicita ao usuário que informe a palavra que será substituída e armazena na variável \"palavra_antiga\"\n",
        "palavra_antiga = input(\"Palavra a ser substituída: \")\n",
        "\n",
        "# Solicita ao usuário que informe a nova palavra que substituirá a antiga e armazena na variável \"palavra_nova\"\n",
        "palavra_nova = input(\"Nova palavra: \")\n",
        "\n",
        "# Substitui todas as ocorrências de \"palavra_antiga\" por \"palavra_nova\" no texto\n",
        "# O método .replace() realiza essa substituição e retorna o texto modificado, que é armazenado em \"texto_alterado\"\n",
        "texto_alterado = texto.replace(palavra_antiga, palavra_nova)\n",
        "\n",
        "# Exibe o texto alterado com as substituições realizadas\n",
        "print(f\"Texto alterado: {texto_alterado}\")"
      ],
      "metadata": {
        "colab": {
          "base_uri": "https://localhost:8080/"
        },
        "id": "owrKzXwnN2_s",
        "outputId": "afb641a1-1a98-47e7-d63d-9aec9003f3d7"
      },
      "execution_count": 5,
      "outputs": [
        {
          "output_type": "stream",
          "name": "stdout",
          "text": [
            "Digite um texto: Eu nunca ero!\n",
            "Palavra a ser substituída: ero!\n",
            "Nova palavra: erro!\n",
            "Texto alterado: Eu nunca erro!\n"
          ]
        }
      ]
    },
    {
      "cell_type": "markdown",
      "source": [
        "* Exercício 4: Separar frases e iterar sobre elas"
      ],
      "metadata": {
        "id": "im8JxocOOuJk"
      }
    },
    {
      "cell_type": "code",
      "source": [
        "# Solicita ao usuário que digite um parágrafo e armazena na variável \"paragrafo\"\n",
        "paragrafo = input(\"Digite um parágrafo: \")\n",
        "\n",
        "# Divide o parágrafo em uma lista de frases, utilizando o ponto ('.') como delimitador\n",
        "# O método .split('.') separa o texto onde houver um ponto\n",
        "frases = paragrafo.split('.')\n",
        "\n",
        "# Itera sobre a lista de frases utilizando o método enumerate(), que retorna o índice (i) e a frase correspondente\n",
        "for i, frase in enumerate(frases):\n",
        "    # Verifica se a frase não está vazia após remover espaços em branco nas extremidades com o método .strip()\n",
        "    if frase.strip():\n",
        "        # Exibe cada frase numerada, removendo espaços extras ao redor da frase com .strip()\n",
        "        print(f\"Frase {i + 1}: {frase.strip()}\")"
      ],
      "metadata": {
        "colab": {
          "base_uri": "https://localhost:8080/"
        },
        "id": "t4ENfRI_OxmZ",
        "outputId": "ebe92d24-d24e-47fc-c8f0-18187fb4c324"
      },
      "execution_count": 7,
      "outputs": [
        {
          "output_type": "stream",
          "name": "stdout",
          "text": [
            "Digite um parágrafo: Até tentei pensar em algo. Porém a minha criatividade já se esgotou. Logo, o que resta dizer senão: blá blá blá.\n",
            "Frase 1: Até tentei pensar em algo\n",
            "Frase 2: Porém a minha criatividade já se esgotou\n",
            "Frase 3: Logo, o que resta dizer senão: blá blá blá\n"
          ]
        }
      ]
    },
    {
      "cell_type": "markdown",
      "source": [
        "* Exercício 5: Ler três valores inteiros representados pelas variáveis A, B e C e apresentar os valores lidos dispostos em ordem crescente."
      ],
      "metadata": {
        "id": "JoWfP34IPWGc"
      }
    },
    {
      "cell_type": "code",
      "source": [
        "# Solicita ao usuário três valores inteiros e os armazena nas variáveis A, B e C\n",
        "A = int(input(\"Informe um valor inteiro qualquer: \"))\n",
        "B = int(input(\"Informe outro valor inteiro qualquer: \"))\n",
        "C = int(input(\"Informe mais um outro valor inteiro qualquer: \"))\n",
        "\n",
        "# Verifica se A é menor que B\n",
        "if (A < B):\n",
        "    # Se A < B, verifica se B é menor que C\n",
        "    if (B < C):\n",
        "        print(\"\\n\")  # Se A < B < C, a ordem já está correta (A, B, C), então não faz nada\n",
        "    else:\n",
        "        # Caso contrário, verifica se C é menor que A\n",
        "        if (C < A):  # Se C < A < B\n",
        "            # Troca os valores para que a ordem fique correta: C, A, B\n",
        "            x = B  # Armazena temporariamente o valor de B em x\n",
        "            B = A  # Move o valor de A para B\n",
        "            A = C  # Move o valor de C para A\n",
        "            C = x  # Move o valor original de B (armazenado em x) para C\n",
        "        else:  # Se A < C < B\n",
        "            # Troca os valores para que a ordem fique correta: A, C, B\n",
        "            x = B  # Armazena temporariamente o valor de B em x\n",
        "            B = C  # Move o valor de C para B\n",
        "            C = x  # Move o valor original de B (armazenado em x) para C\n",
        "else:\n",
        "    # Caso contrário, verifica se A é menor que C\n",
        "    if (A < C):  # Se B < A < C\n",
        "        # Troca os valores para que a ordem fique correta: B, A, C\n",
        "        x = B  # Armazena temporariamente o valor de B em x\n",
        "        B = A  # Move o valor de A para B\n",
        "        A = x  # Move o valor original de B (armazenado em x) para A\n",
        "    else:\n",
        "        # Caso contrário, verifica se B é menor que C\n",
        "        if (B < C):  # Se B < C < A\n",
        "            # Troca os valores para que a ordem fique correta: B, C, A\n",
        "            x = A  # Armazena temporariamente o valor de A em x\n",
        "            A = B  # Move o valor de B para A\n",
        "            B = C  # Move o valor de C para B\n",
        "            C = x  # Move o valor original de A (armazenado em x) para C\n",
        "        else:  # Se C < B < A\n",
        "            # Troca os valores para que a ordem fique correta: C, B, A\n",
        "            x = A  # Armazena temporariamente o valor de A em x\n",
        "            A = C  # Move o valor de C para A\n",
        "            C = x  # Move o valor original de A (armazenado em x) para C\n",
        "\n",
        "# Exibe os valores ordenados na tela no formato \"A ordem de valores é {A}, {B} e {C}\"\n",
        "print(\"A ordem de valores é {}, {} e {}\".format(A, B, C))"
      ],
      "metadata": {
        "colab": {
          "base_uri": "https://localhost:8080/"
        },
        "id": "gh3UpHjvPZcB",
        "outputId": "63ecdca0-2c97-4adf-aace-031af2e29de9"
      },
      "execution_count": 8,
      "outputs": [
        {
          "output_type": "stream",
          "name": "stdout",
          "text": [
            "Informe um valor inteiro qualquer: 6\n",
            "Informe outro valor inteiro qualquer: 75\n",
            "Informe mais um outro valor inteiro qualquer: 1\n",
            "A ordem de valores é 1, 6 e 75\n"
          ]
        }
      ]
    },
    {
      "cell_type": "markdown",
      "source": [
        "* Exercício 6: Fazer a leitura de quatro valores numéricos inteiros representados pelas variáveis A, B, C e D. Apresentar apenas os valores que sejam divisíveis por 2 e 3."
      ],
      "metadata": {
        "id": "5ADdN43dPkhA"
      }
    },
    {
      "cell_type": "code",
      "source": [
        "# Solicita ao usuário quatro valores inteiros e armazena nas variáveis A, B, C e D\n",
        "A = int(input(\"Informe um valor inteiro qualquer: \"))\n",
        "B = int(input(\"Informe outro valor inteiro qualquer: \"))\n",
        "C = int(input(\"Informe mais um valor inteiro qualquer: \"))\n",
        "D = int(input(\"Informe o último valor inteiro: \"))\n",
        "\n",
        "# Lista de valores e seus nomes para iterar de forma elegante\n",
        "valores = [(\"primeiro\", A), (\"segundo\", B), (\"terceiro\", C), (\"quarto\", D)]\n",
        "\n",
        "# Verifica divisibilidade por 6 e exibe mensagem padrão\n",
        "for nome, valor in valores:\n",
        "    if valor % 6 == 0:\n",
        "        print(f\"O {nome} valor ({valor}) é divisível por 2 e por 3.\")\n",
        "    else:\n",
        "        print(f\"O {nome} valor ({valor}) não é divisível por 2 e por 3.\")"
      ],
      "metadata": {
        "colab": {
          "base_uri": "https://localhost:8080/"
        },
        "id": "c4IRhc6sPn6m",
        "outputId": "2e8546f6-58e6-41e5-97b4-4e7b50e5cd6a"
      },
      "execution_count": 10,
      "outputs": [
        {
          "output_type": "stream",
          "name": "stdout",
          "text": [
            "Informe um valor inteiro qualquer: 42\n",
            "Informe outro valor inteiro qualquer: 60\n",
            "Informe mais um valor inteiro qualquer: 2\n",
            "Informe o último valor inteiro: 120\n",
            "O primeiro valor (42) é divisível por 2 e por 3.\n",
            "O segundo valor (60) é divisível por 2 e por 3.\n",
            "O terceiro valor (2) não é divisível por 2 e por 3.\n",
            "O quarto valor (120) é divisível por 2 e por 3.\n"
          ]
        }
      ]
    },
    {
      "cell_type": "markdown",
      "source": [
        "* Exercício 7: Construir um programa que apresente todos os valores numéricos divisíveis por 4 e menores que 200"
      ],
      "metadata": {
        "id": "S0HRrdZbQhfb"
      }
    },
    {
      "cell_type": "code",
      "source": [
        "i = 1 # Inicializa a variável \"i\" com o valor 1\n",
        "\n",
        "contador = 0  # Para controlar quebras de linha\n",
        "\n",
        "print(\"Números divisíveis por 4 e menores que 200:\\n\")\n",
        "\n",
        "# Inicia um loop \"while\" que continuará enquanto \"i\" for menor que 200\n",
        "while i < 200:\n",
        "    # Verifica se \"i\" é divisível por 4\n",
        "    # O operador % (módulo) retorna o resto da divisão. Se i % 4 == 0, significa que \"i\" é divisível por 4\n",
        "    if i % 4 == 0:\n",
        "\n",
        "        # Imprime o valor de \"i\", seguido de uma vírgula e um espaço, sem quebrar a linha\n",
        "        print(f\"{i:>3}\", end=\", \")\n",
        "        contador += 1 # Realiza a contagem deresultados\n",
        "        if contador % 10 == 0:  # Depois de 10 resultados, pula linha\n",
        "            print()\n",
        "\n",
        "    i += 1 # Incrementa o valor de \"i\" em 1 a cada iteração do loop\n",
        "else:\n",
        "    print(\"\\n\\nFim da listagem.\")"
      ],
      "metadata": {
        "colab": {
          "base_uri": "https://localhost:8080/"
        },
        "id": "6gcWsoKtQkfj",
        "outputId": "88dbb720-56a6-442e-80a4-f2280173ada8"
      },
      "execution_count": 12,
      "outputs": [
        {
          "output_type": "stream",
          "name": "stdout",
          "text": [
            "Números divisíveis por 4 e menores que 200:\n",
            "\n",
            "  4,   8,  12,  16,  20,  24,  28,  32,  36,  40, \n",
            " 44,  48,  52,  56,  60,  64,  68,  72,  76,  80, \n",
            " 84,  88,  92,  96, 100, 104, 108, 112, 116, 120, \n",
            "124, 128, 132, 136, 140, 144, 148, 152, 156, 160, \n",
            "164, 168, 172, 176, 180, 184, 188, 192, 196, \n",
            "\n",
            "Fim da listagem.\n"
          ]
        }
      ]
    }
  ]
}